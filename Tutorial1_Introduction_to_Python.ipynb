{
 "cells": [
  {
   "cell_type": "markdown",
   "metadata": {},
   "source": [
    "Python\n",
    "======\n",
    "* Python is an interpreted programming language\n",
    "* Whitespace in Python is important\n",
    "* No curly braces! indentation is used to structure the code.\n",
    "* Comments start with a #"
   ]
  },
  {
   "cell_type": "markdown",
   "metadata": {},
   "source": [
    "Tools\n",
    "=====\n",
    "\n",
    "Anaconda\n",
    "--------\n",
    "Available at: https://docs.continuum.io/anaconda/install\n",
    "\n",
    "PyCharm Edu\n",
    "-----------\n",
    "Available at: https://www.jetbrains.com/pycharm-edu/\n"
   ]
  },
  {
   "cell_type": "markdown",
   "metadata": {},
   "source": [
    "Hello World in Python\n",
    "=====================\n",
    "There are many ways one can run a Python program, for example,\n",
    "\n",
    "* using a command line interface\n",
    "* using an Integerated Development Environment (IDE)\n",
    "* using Python Notebooks\n",
    "\n",
    "This document was created using Python Notebook. To run Python Notebook, navigate to the directory you want to save your notebooks in and type the following in a terminal:\n",
    "```$> jupyter notebook``` \n"
   ]
  },
  {
   "cell_type": "markdown",
   "metadata": {},
   "source": [
    "Python Keywords\n",
    "======================\n",
    "There are 33 keywords in Python 3.5"
   ]
  },
  {
   "cell_type": "markdown",
   "metadata": {},
   "source": [
    "Importing Packages\n",
    "------------------"
   ]
  },
  {
   "cell_type": "markdown",
   "metadata": {},
   "source": [
    "### import ###"
   ]
  },
  {
   "cell_type": "code",
   "execution_count": null,
   "metadata": {
    "collapsed": false
   },
   "outputs": [],
   "source": [
    "import keyword\n",
    "print(keyword.kwlist[1:8])"
   ]
  },
  {
   "cell_type": "markdown",
   "metadata": {},
   "source": [
    "### from ###\n"
   ]
  },
  {
   "cell_type": "code",
   "execution_count": null,
   "metadata": {
    "collapsed": false
   },
   "outputs": [],
   "source": [
    "from keyword import kwlist\n",
    "print(kwlist[1:8])"
   ]
  },
  {
   "cell_type": "markdown",
   "metadata": {},
   "source": [
    "### as  ###\n",
    " "
   ]
  },
  {
   "cell_type": "code",
   "execution_count": null,
   "metadata": {
    "collapsed": false
   },
   "outputs": [],
   "source": [
    "from keyword import kwlist as words\n",
    "print(len(words))"
   ]
  },
  {
   "cell_type": "markdown",
   "metadata": {},
   "source": [
    "Conditonals\n",
    "-----------"
   ]
  },
  {
   "cell_type": "markdown",
   "metadata": {},
   "source": [
    "### if  ### "
   ]
  },
  {
   "cell_type": "code",
   "execution_count": null,
   "metadata": {
    "collapsed": false
   },
   "outputs": [],
   "source": [
    "score=90\n",
    "if score > 70:\n",
    "    print('Congrats!')\n",
    "print('HAPPY OR SAD, THIS WILL BE PRINTED ANYWAY!')"
   ]
  },
  {
   "cell_type": "markdown",
   "metadata": {},
   "source": [
    "### else ### "
   ]
  },
  {
   "cell_type": "code",
   "execution_count": null,
   "metadata": {
    "collapsed": false
   },
   "outputs": [],
   "source": [
    "score=60\n",
    "if score > 70:\n",
    "    print('Congrats!')\n",
    "else:\n",
    "    print('Good luck next term!')\n",
    "print('HAPPY OR SAD, THIS WILL BE printED ANYWAY!')        "
   ]
  },
  {
   "cell_type": "markdown",
   "metadata": {},
   "source": [
    "### elif ### "
   ]
  },
  {
   "cell_type": "code",
   "execution_count": null,
   "metadata": {
    "collapsed": false
   },
   "outputs": [],
   "source": [
    "score=85\n",
    "if score > 90:\n",
    "    print('You are the best (probably)!')\n",
    "elif score > 80:\n",
    "    print('Good job!')\n",
    "else:\n",
    "    print('Good luck next term!')\n",
    "print('Python doesn\\'t have a switch statement!') "
   ]
  },
  {
   "cell_type": "markdown",
   "metadata": {},
   "source": [
    "Loops\n",
    "-----"
   ]
  },
  {
   "cell_type": "markdown",
   "metadata": {},
   "source": [
    "### in ### "
   ]
  },
  {
   "cell_type": "code",
   "execution_count": null,
   "metadata": {
    "collapsed": false
   },
   "outputs": [],
   "source": [
    "student='john'\n",
    "if student in ['steve','alex','bob','john']:    \n",
    "    print(student + ' is enrolled!') "
   ]
  },
  {
   "cell_type": "markdown",
   "metadata": {},
   "source": [
    "### for ### "
   ]
  },
  {
   "cell_type": "code",
   "execution_count": null,
   "metadata": {
    "collapsed": false
   },
   "outputs": [],
   "source": [
    "for s in ['steve','alex','bob','john']:\n",
    "    print(s)"
   ]
  },
  {
   "cell_type": "code",
   "execution_count": null,
   "metadata": {
    "collapsed": false,
    "scrolled": true
   },
   "outputs": [],
   "source": [
    "for id in range(5):    \n",
    "    print(id)"
   ]
  },
  {
   "cell_type": "code",
   "execution_count": null,
   "metadata": {
    "collapsed": false
   },
   "outputs": [],
   "source": [
    "print('ID \\t Name')\n",
    "for (id,s) in  zip(range(4), ['steve','alex','bob','john']):\n",
    "    print(str(id)+'\\t '+s)"
   ]
  },
  {
   "cell_type": "markdown",
   "metadata": {},
   "source": [
    "### while ### "
   ]
  },
  {
   "cell_type": "code",
   "execution_count": null,
   "metadata": {
    "collapsed": false
   },
   "outputs": [],
   "source": [
    "life=3\n",
    "while life > 0:\n",
    "    print('I am alive with '+str(life)+' stars')\n",
    "    life-=1\n",
    "print('And finally I\\'m dead!')\n",
    "print('Python doesn\\'t have an increment/decrement operator')"
   ]
  },
  {
   "cell_type": "markdown",
   "metadata": {},
   "source": [
    "### break ### "
   ]
  },
  {
   "cell_type": "code",
   "execution_count": null,
   "metadata": {
    "collapsed": false
   },
   "outputs": [],
   "source": [
    "for s in ['steve','alex','bob','john']:\n",
    "    if s == 'bob':\n",
    "        print('AHAA! We\\'ve found '+s+'!' )\n",
    "        break\n",
    "    else:\n",
    "        print('Nope! It is '+s+'!')"
   ]
  },
  {
   "cell_type": "markdown",
   "metadata": {},
   "source": [
    "### continue ### "
   ]
  },
  {
   "cell_type": "code",
   "execution_count": null,
   "metadata": {
    "collapsed": false
   },
   "outputs": [],
   "source": [
    "for s in ['steve','alex','bob','john']:\n",
    "    if s == 'bob':\n",
    "        continue\n",
    "    print('Welcome '+s+'!' )\n",
    "print('We just ignored bob!')"
   ]
  },
  {
   "cell_type": "markdown",
   "metadata": {},
   "source": [
    "Organizing Code\n",
    "---------------"
   ]
  },
  {
   "cell_type": "markdown",
   "metadata": {},
   "source": [
    "### def ### "
   ]
  },
  {
   "cell_type": "code",
   "execution_count": null,
   "metadata": {
    "collapsed": false
   },
   "outputs": [],
   "source": [
    "def product(a,b):\n",
    "    \"\"\"Computes the product of two numbers using addition.\"\"\"\n",
    "    p=0\n",
    "    for i in range(a):\n",
    "        p=p+b\n",
    "    print(p)\n",
    "    \n",
    "# This is how you call a function\n",
    "product(4,5)\n",
    "\n",
    "        "
   ]
  },
  {
   "cell_type": "markdown",
   "metadata": {},
   "source": [
    "### return ### "
   ]
  },
  {
   "cell_type": "code",
   "execution_count": null,
   "metadata": {
    "collapsed": true
   },
   "outputs": [],
   "source": [
    "def product(a,b):\n",
    "    \"\"\"Computes the product of two numbers using addition.\"\"\"\n",
    "    p=0\n",
    "    for i in range(a):\n",
    "        p=p+b\n",
    "    return p\n",
    "    \n",
    "# This is how you return a value from a function\n",
    "result = product(4,5)\n"
   ]
  },
  {
   "cell_type": "markdown",
   "metadata": {},
   "source": [
    "### pass ### \n",
    "Just a placeholder operation"
   ]
  },
  {
   "cell_type": "markdown",
   "metadata": {},
   "source": [
    "### class ###"
   ]
  },
  {
   "cell_type": "code",
   "execution_count": null,
   "metadata": {
    "collapsed": false
   },
   "outputs": [],
   "source": [
    "class student:\n",
    "    \"\"\"A class representing a student.\"\"\" \n",
    "    def __init__(self, name, course):\n",
    "        \"\"\"Initializer for the student class.\"\"\"\n",
    "        self.name=name\n",
    "        self.course=course\n",
    "        \n",
    "    def printName(self):\n",
    "        print(self.name)\n",
    "        \n",
    "    def aStaticMethod():\n",
    "        print('A static method')\n",
    "    \n",
    "s=student('foo','CS')\n",
    "\n",
    "s.printName()\n",
    "student.printName(s)\n",
    "student.aStaticMethod()"
   ]
  },
  {
   "cell_type": "markdown",
   "metadata": {},
   "source": [
    "Exception Handeling\n",
    "-------------------"
   ]
  },
  {
   "cell_type": "markdown",
   "metadata": {},
   "source": [
    "### try, except, finally ### "
   ]
  },
  {
   "cell_type": "code",
   "execution_count": null,
   "metadata": {
    "collapsed": false
   },
   "outputs": [],
   "source": [
    "f=open('onionRings.txt')"
   ]
  },
  {
   "cell_type": "code",
   "execution_count": null,
   "metadata": {
    "collapsed": false
   },
   "outputs": [],
   "source": [
    "try:\n",
    "    f=open('onionRings.txt')\n",
    "except FileNotFoundError:\n",
    "    print('Sorry! Onion rings not found >_<')\n",
    "    print('Would you like french fries instead?')\n",
    "finally:\n",
    "    print('You\\'ll have to pay for the pop anyway!')"
   ]
  },
  {
   "cell_type": "markdown",
   "metadata": {},
   "source": [
    "### assert, raise### "
   ]
  },
  {
   "cell_type": "code",
   "execution_count": null,
   "metadata": {
    "collapsed": false
   },
   "outputs": [],
   "source": [
    "age = int( input('Please enter your age: ') )\n",
    "assert(age > 21)\n",
    "print('Welcome!')"
   ]
  },
  {
   "cell_type": "markdown",
   "metadata": {},
   "source": [
    "Types\n",
    "-----"
   ]
  },
  {
   "cell_type": "markdown",
   "metadata": {},
   "source": [
    "### True, False, None ###"
   ]
  },
  {
   "cell_type": "markdown",
   "metadata": {},
   "source": [
    "Logical\n",
    "-------"
   ]
  },
  {
   "cell_type": "markdown",
   "metadata": {},
   "source": [
    "### and, or, not ###"
   ]
  },
  {
   "cell_type": "markdown",
   "metadata": {},
   "source": [
    "Scope\n",
    "-----"
   ]
  },
  {
   "cell_type": "markdown",
   "metadata": {},
   "source": [
    "###  with, nonlocal, global, del ### "
   ]
  },
  {
   "cell_type": "markdown",
   "metadata": {},
   "source": [
    "Miscellaneous\n",
    "-------------"
   ]
  },
  {
   "cell_type": "markdown",
   "metadata": {},
   "source": [
    "### lambda,  is,  yield ###"
   ]
  },
  {
   "cell_type": "markdown",
   "metadata": {},
   "source": [
    "Sequence types\n",
    "==============\n",
    "Tuples ( )\n",
    "----------\n",
    "Tuples and strings are immutable sequence types"
   ]
  },
  {
   "cell_type": "code",
   "execution_count": null,
   "metadata": {
    "collapsed": false
   },
   "outputs": [],
   "source": [
    "t=('abc', 123, [1,2,3])\n",
    "print(t[2])"
   ]
  },
  {
   "cell_type": "markdown",
   "metadata": {},
   "source": [
    "Strings \" \"\n",
    "-----------"
   ]
  },
  {
   "cell_type": "code",
   "execution_count": null,
   "metadata": {
    "collapsed": false
   },
   "outputs": [],
   "source": [
    "s=\"hello world\"\n",
    "print(s[6])"
   ]
  },
  {
   "cell_type": "code",
   "execution_count": null,
   "metadata": {
    "collapsed": false
   },
   "outputs": [],
   "source": [
    "newS = s.replace('world','saskatoon')\n",
    "print(s)\n",
    "print(newS)"
   ]
  },
  {
   "cell_type": "markdown",
   "metadata": {},
   "source": [
    "Lists [ ]\n",
    "--------\n",
    "Lists are mutable types."
   ]
  },
  {
   "cell_type": "code",
   "execution_count": null,
   "metadata": {
    "collapsed": false
   },
   "outputs": [],
   "source": [
    "a=[1, 2, [3,4], 'abc', (0,'d'), 7]\n",
    "print(a[3])"
   ]
  },
  {
   "cell_type": "code",
   "execution_count": null,
   "metadata": {
    "collapsed": false
   },
   "outputs": [],
   "source": [
    "a.append('hi')\n",
    "a.remove([3,4])\n",
    "print(a)"
   ]
  },
  {
   "cell_type": "markdown",
   "metadata": {},
   "source": [
    "Indexing Sequence types\n",
    "-----------------------"
   ]
  },
  {
   "cell_type": "code",
   "execution_count": null,
   "metadata": {
    "collapsed": false
   },
   "outputs": [],
   "source": [
    "print(a[1:3])"
   ]
  },
  {
   "cell_type": "code",
   "execution_count": null,
   "metadata": {
    "collapsed": false
   },
   "outputs": [],
   "source": [
    "print(a[:3])"
   ]
  },
  {
   "cell_type": "code",
   "execution_count": null,
   "metadata": {
    "collapsed": false
   },
   "outputs": [],
   "source": [
    "print(a[-2])"
   ]
  },
  {
   "cell_type": "code",
   "execution_count": null,
   "metadata": {
    "collapsed": false
   },
   "outputs": [],
   "source": [
    "print(a[3:])"
   ]
  },
  {
   "cell_type": "markdown",
   "metadata": {},
   "source": [
    "Dictionaries { }\n",
    "---------------\n",
    "Dictionaries store key value pairs."
   ]
  },
  {
   "cell_type": "code",
   "execution_count": null,
   "metadata": {
    "collapsed": false
   },
   "outputs": [],
   "source": [
    "d = {'a': 65, 'b': 66, 'c': 67}\n",
    "print(d['b'])"
   ]
  },
  {
   "cell_type": "markdown",
   "metadata": {},
   "source": [
    "List Comprehension\n",
    "=================\n",
    "List comprehension is one of the most powerful concept of Python.\n",
    "\n",
    "Get a list of the successful student IDs given a list of marks. "
   ]
  },
  {
   "cell_type": "code",
   "execution_count": null,
   "metadata": {
    "collapsed": false
   },
   "outputs": [],
   "source": [
    "successful = []\n",
    "marks=[90, 45, 92, 85, 94, 39, 71, 86]\n",
    "for ID in range( len(marks) ):\n",
    "    if marks[ID] > 70:\n",
    "        successful.append(ID)\n",
    "print(successful)"
   ]
  },
  {
   "cell_type": "code",
   "execution_count": null,
   "metadata": {
    "collapsed": false
   },
   "outputs": [],
   "source": [
    "successful = [ID for ID in range(len(marks)) if marks[ID] > 70]\n",
    "print(successful)"
   ]
  },
  {
   "cell_type": "code",
   "execution_count": null,
   "metadata": {
    "collapsed": false
   },
   "outputs": [],
   "source": [
    "successful = [(ID,marks[ID]) for ID in range(len(marks)) if marks[ID] > 70]\n",
    "print(successful)"
   ]
  },
  {
   "cell_type": "markdown",
   "metadata": {},
   "source": [
    "Files I/O\n",
    "=========\n"
   ]
  },
  {
   "cell_type": "code",
   "execution_count": null,
   "metadata": {
    "collapsed": true
   },
   "outputs": [],
   "source": [
    "s=['This is line 1.','This is line 2','This is line 3']\n",
    "f=open('myFile.txt','w') # open a file in write mode\n",
    "for l in s:              # write the lines to file\n",
    "    f.write(l+'\\n')\n",
    "f.close()                # close the file"
   ]
  },
  {
   "cell_type": "code",
   "execution_count": null,
   "metadata": {
    "collapsed": false
   },
   "outputs": [],
   "source": [
    "with open('myFile.txt','r') as f: # using 'with' terminates f after use\n",
    "    s=f.read()\n",
    "    #s=f.readlines()\n",
    "print(s)"
   ]
  }
 ],
 "metadata": {
  "anaconda-cloud": {},
  "kernelspec": {
   "display_name": "Python [Root]",
   "language": "python",
   "name": "Python [Root]"
  },
  "language_info": {
   "codemirror_mode": {
    "name": "ipython",
    "version": 3
   },
   "file_extension": ".py",
   "mimetype": "text/x-python",
   "name": "python",
   "nbconvert_exporter": "python",
   "pygments_lexer": "ipython3",
   "version": "3.5.2"
  }
 },
 "nbformat": 4,
 "nbformat_minor": 0
}
