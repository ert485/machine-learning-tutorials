{
 "cells": [
  {
   "cell_type": "markdown",
   "metadata": {},
   "source": [
    "Python\n",
    "======\n",
    "* Python is an interpreted programming language\n",
    "* Whitespace in Python is important\n",
    "* No curly braces! indentation is used to structure the code.\n",
    "* Comments start with a #"
   ]
  },
  {
   "cell_type": "markdown",
   "metadata": {},
   "source": [
    "Tools\n",
    "=====\n",
    "\n",
    "Anaconda\n",
    "--------\n",
    "Available at: https://docs.continuum.io/anaconda/install\n",
    "\n",
    "PyCharm Edu\n",
    "-----------\n",
    "Available at: https://www.jetbrains.com/pycharm-edu/\n"
   ]
  },
  {
   "cell_type": "markdown",
   "metadata": {},
   "source": [
    "Hello World in Python\n",
    "=====================\n",
    "There are many ways one can run a Python program, for example,\n",
    "\n",
    "* using a command line interface\n",
    "* using an Integerated Development Environment (IDE)\n",
    "* using Python Notebooks\n",
    "\n",
    "This document was created using Python Notebook. To run Python Notebook, navigate to the directory you want to save your notebooks in and type the following in a terminal:\n",
    "```$> jupyter notebook``` \n"
   ]
  },
  {
   "cell_type": "markdown",
   "metadata": {},
   "source": [
    "Python Keywords\n",
    "======================\n",
    "There are 33 keywords in Python 3.5"
   ]
  },
  {
   "cell_type": "markdown",
   "metadata": {},
   "source": [
    "Importing Packages\n",
    "------------------"
   ]
  },
  {
   "cell_type": "markdown",
   "metadata": {},
   "source": [
    "### import ###"
   ]
  },
  {
   "cell_type": "code",
   "execution_count": 1,
   "metadata": {
    "collapsed": false
   },
   "outputs": [
    {
     "name": "stdout",
     "output_type": "stream",
     "text": [
      "['None', 'True', 'and', 'as', 'assert', 'break', 'class']\n"
     ]
    }
   ],
   "source": [
    "import keyword\n",
    "print(keyword.kwlist[1:8])"
   ]
  },
  {
   "cell_type": "markdown",
   "metadata": {},
   "source": [
    "### from ###\n"
   ]
  },
  {
   "cell_type": "code",
   "execution_count": 2,
   "metadata": {
    "collapsed": false
   },
   "outputs": [
    {
     "name": "stdout",
     "output_type": "stream",
     "text": [
      "['None', 'True', 'and', 'as', 'assert', 'break', 'class']\n"
     ]
    }
   ],
   "source": [
    "from keyword import kwlist\n",
    "print(kwlist[1:8])"
   ]
  },
  {
   "cell_type": "markdown",
   "metadata": {},
   "source": [
    "### as  ###\n",
    " "
   ]
  },
  {
   "cell_type": "code",
   "execution_count": 3,
   "metadata": {
    "collapsed": false
   },
   "outputs": [
    {
     "name": "stdout",
     "output_type": "stream",
     "text": [
      "33\n"
     ]
    }
   ],
   "source": [
    "from keyword import kwlist as words\n",
    "print(len(words))"
   ]
  },
  {
   "cell_type": "markdown",
   "metadata": {},
   "source": [
    "Conditonals\n",
    "-----------"
   ]
  },
  {
   "cell_type": "markdown",
   "metadata": {},
   "source": [
    "### if  ### "
   ]
  },
  {
   "cell_type": "code",
   "execution_count": 4,
   "metadata": {
    "collapsed": false
   },
   "outputs": [
    {
     "name": "stdout",
     "output_type": "stream",
     "text": [
      "Congrats!\n",
      "HAPPY OR SAD, THIS WILL BE PRINTED ANYWAY!\n"
     ]
    }
   ],
   "source": [
    "score=90\n",
    "if score > 70:\n",
    "    print('Congrats!')\n",
    "print('HAPPY OR SAD, THIS WILL BE PRINTED ANYWAY!')"
   ]
  },
  {
   "cell_type": "markdown",
   "metadata": {},
   "source": [
    "### else ### "
   ]
  },
  {
   "cell_type": "code",
   "execution_count": 5,
   "metadata": {
    "collapsed": false
   },
   "outputs": [
    {
     "name": "stdout",
     "output_type": "stream",
     "text": [
      "Good luck next term!\n",
      "HAPPY OR SAD, THIS WILL BE printED ANYWAY!\n"
     ]
    }
   ],
   "source": [
    "score=60\n",
    "if score > 70:\n",
    "    print('Congrats!')\n",
    "else:\n",
    "    print('Good luck next term!')\n",
    "print('HAPPY OR SAD, THIS WILL BE printED ANYWAY!')        "
   ]
  },
  {
   "cell_type": "markdown",
   "metadata": {},
   "source": [
    "### elif ### "
   ]
  },
  {
   "cell_type": "code",
   "execution_count": 6,
   "metadata": {
    "collapsed": false
   },
   "outputs": [
    {
     "name": "stdout",
     "output_type": "stream",
     "text": [
      "Good job!\n",
      "Python doesn't have a switch statement!\n"
     ]
    }
   ],
   "source": [
    "score=85\n",
    "if score > 90:\n",
    "    print('You are the best (probably)!')\n",
    "elif score > 80:\n",
    "    print('Good job!')\n",
    "else:\n",
    "    print('Good luck next term!')\n",
    "print('Python doesn\\'t have a switch statement!') "
   ]
  },
  {
   "cell_type": "markdown",
   "metadata": {},
   "source": [
    "Loops\n",
    "-----"
   ]
  },
  {
   "cell_type": "markdown",
   "metadata": {},
   "source": [
    "### in ### "
   ]
  },
  {
   "cell_type": "code",
   "execution_count": 7,
   "metadata": {
    "collapsed": false
   },
   "outputs": [
    {
     "name": "stdout",
     "output_type": "stream",
     "text": [
      "john is enrolled!\n"
     ]
    }
   ],
   "source": [
    "student='john'\n",
    "if student in ['steve','alex','bob','john']:    \n",
    "    print(student + ' is enrolled!') "
   ]
  },
  {
   "cell_type": "markdown",
   "metadata": {},
   "source": [
    "### for ### "
   ]
  },
  {
   "cell_type": "code",
   "execution_count": 8,
   "metadata": {
    "collapsed": false
   },
   "outputs": [
    {
     "name": "stdout",
     "output_type": "stream",
     "text": [
      "steve\n",
      "alex\n",
      "bob\n",
      "john\n"
     ]
    }
   ],
   "source": [
    "for s in ['steve','alex','bob','john']:\n",
    "    print(s)"
   ]
  },
  {
   "cell_type": "code",
   "execution_count": 9,
   "metadata": {
    "collapsed": false,
    "scrolled": true
   },
   "outputs": [
    {
     "name": "stdout",
     "output_type": "stream",
     "text": [
      "0\n",
      "1\n",
      "2\n",
      "3\n",
      "4\n"
     ]
    }
   ],
   "source": [
    "for id in range(5):    \n",
    "    print(id)"
   ]
  },
  {
   "cell_type": "code",
   "execution_count": 10,
   "metadata": {
    "collapsed": false
   },
   "outputs": [
    {
     "name": "stdout",
     "output_type": "stream",
     "text": [
      "ID \t Name\n",
      "0\t steve\n",
      "1\t alex\n",
      "2\t bob\n",
      "3\t john\n"
     ]
    }
   ],
   "source": [
    "print('ID \\t Name')\n",
    "for (id,s) in  zip(range(4), ['steve','alex','bob','john']):\n",
    "    print(str(id)+'\\t '+s)"
   ]
  },
  {
   "cell_type": "markdown",
   "metadata": {},
   "source": [
    "### while ### "
   ]
  },
  {
   "cell_type": "code",
   "execution_count": 11,
   "metadata": {
    "collapsed": false
   },
   "outputs": [
    {
     "name": "stdout",
     "output_type": "stream",
     "text": [
      "I am alive with 3 stars\n",
      "I am alive with 2 stars\n",
      "I am alive with 1 stars\n",
      "And finally I'm dead!\n",
      "Python doesn't have an increment/decrement operator\n"
     ]
    }
   ],
   "source": [
    "life=3\n",
    "while life > 0:\n",
    "    print('I am alive with '+str(life)+' stars')\n",
    "    life-=1\n",
    "print('And finally I\\'m dead!')\n",
    "print('Python doesn\\'t have an increment/decrement operator')"
   ]
  },
  {
   "cell_type": "markdown",
   "metadata": {},
   "source": [
    "### break ### "
   ]
  },
  {
   "cell_type": "code",
   "execution_count": 12,
   "metadata": {
    "collapsed": false
   },
   "outputs": [
    {
     "name": "stdout",
     "output_type": "stream",
     "text": [
      "Nope! It is steve!\n",
      "Nope! It is alex!\n",
      "AHAA! We've found bob!\n"
     ]
    }
   ],
   "source": [
    "for s in ['steve','alex','bob','john']:\n",
    "    if s == 'bob':\n",
    "        print('AHAA! We\\'ve found '+s+'!' )\n",
    "        break\n",
    "    else:\n",
    "        print('Nope! It is '+s+'!')"
   ]
  },
  {
   "cell_type": "markdown",
   "metadata": {},
   "source": [
    "### continue ### "
   ]
  },
  {
   "cell_type": "code",
   "execution_count": 13,
   "metadata": {
    "collapsed": false
   },
   "outputs": [
    {
     "name": "stdout",
     "output_type": "stream",
     "text": [
      "Welcome steve!\n",
      "Welcome alex!\n",
      "Welcome john!\n",
      "We just ignored bob!\n"
     ]
    }
   ],
   "source": [
    "for s in ['steve','alex','bob','john']:\n",
    "    if s == 'bob':\n",
    "        continue\n",
    "    print('Welcome '+s+'!' )\n",
    "print('We just ignored bob!')"
   ]
  },
  {
   "cell_type": "markdown",
   "metadata": {},
   "source": [
    "Organizing Code\n",
    "---------------"
   ]
  },
  {
   "cell_type": "markdown",
   "metadata": {},
   "source": [
    "### def ### "
   ]
  },
  {
   "cell_type": "code",
   "execution_count": 14,
   "metadata": {
    "collapsed": false
   },
   "outputs": [
    {
     "name": "stdout",
     "output_type": "stream",
     "text": [
      "20\n"
     ]
    }
   ],
   "source": [
    "def product(a,b):\n",
    "    \"\"\"Computes the product of two numbers using addition.\"\"\"\n",
    "    p=0\n",
    "    for i in range(a):\n",
    "        p=p+b\n",
    "    print(p)\n",
    "    \n",
    "# This is how you call a function\n",
    "product(4,5)\n",
    "\n",
    "        "
   ]
  },
  {
   "cell_type": "markdown",
   "metadata": {},
   "source": [
    "### return ### "
   ]
  },
  {
   "cell_type": "code",
   "execution_count": 15,
   "metadata": {
    "collapsed": true
   },
   "outputs": [],
   "source": [
    "def product(a,b):\n",
    "    \"\"\"Computes the product of two numbers using addition.\"\"\"\n",
    "    p=0\n",
    "    for i in range(a):\n",
    "        p=p+b\n",
    "    return p\n",
    "    \n",
    "# This is how you return a value from a function\n",
    "result = product(4,5)\n"
   ]
  },
  {
   "cell_type": "markdown",
   "metadata": {},
   "source": [
    "### pass ### \n",
    "Just a placeholder operation"
   ]
  },
  {
   "cell_type": "markdown",
   "metadata": {},
   "source": [
    "### class ###"
   ]
  },
  {
   "cell_type": "code",
   "execution_count": 16,
   "metadata": {
    "collapsed": false
   },
   "outputs": [
    {
     "name": "stdout",
     "output_type": "stream",
     "text": [
      "foo\n",
      "foo\n",
      "A static method\n"
     ]
    }
   ],
   "source": [
    "class student:\n",
    "    \"\"\"A class representing a student.\"\"\" \n",
    "    def __init__(self, name, course):\n",
    "        \"\"\"Initializer for the student class.\"\"\"\n",
    "        self.name=name\n",
    "        self.course=course\n",
    "        \n",
    "    def printName(self):\n",
    "        print(self.name)\n",
    "        \n",
    "    def aStaticMethod():\n",
    "        print('A static method')\n",
    "    \n",
    "s=student('foo','CS')\n",
    "\n",
    "s.printName()\n",
    "student.printName(s)\n",
    "student.aStaticMethod()"
   ]
  },
  {
   "cell_type": "markdown",
   "metadata": {},
   "source": [
    "Exception Handeling\n",
    "-------------------"
   ]
  },
  {
   "cell_type": "markdown",
   "metadata": {},
   "source": [
    "### try, except, finally ### "
   ]
  },
  {
   "cell_type": "code",
   "execution_count": 17,
   "metadata": {
    "collapsed": false
   },
   "outputs": [
    {
     "ename": "FileNotFoundError",
     "evalue": "[Errno 2] No such file or directory: 'onionRings.txt'",
     "output_type": "error",
     "traceback": [
      "\u001b[1;31m---------------------------------------------------------------------------\u001b[0m",
      "\u001b[1;31mFileNotFoundError\u001b[0m                         Traceback (most recent call last)",
      "\u001b[1;32m<ipython-input-17-57b6e9fbdd29>\u001b[0m in \u001b[0;36m<module>\u001b[1;34m()\u001b[0m\n\u001b[1;32m----> 1\u001b[1;33m \u001b[0mf\u001b[0m\u001b[1;33m=\u001b[0m\u001b[0mopen\u001b[0m\u001b[1;33m(\u001b[0m\u001b[1;34m'onionRings.txt'\u001b[0m\u001b[1;33m)\u001b[0m\u001b[1;33m\u001b[0m\u001b[0m\n\u001b[0m",
      "\u001b[1;31mFileNotFoundError\u001b[0m: [Errno 2] No such file or directory: 'onionRings.txt'"
     ]
    }
   ],
   "source": [
    "f=open('onionRings.txt')"
   ]
  },
  {
   "cell_type": "code",
   "execution_count": 19,
   "metadata": {
    "collapsed": false
   },
   "outputs": [
    {
     "name": "stdout",
     "output_type": "stream",
     "text": [
      "Sorry! Onion rings not found >_<\n",
      "Would you like french fries instead?\n",
      "You'll have to pay for the pop anyway!\n"
     ]
    }
   ],
   "source": [
    "try:\n",
    "    f=open('onionRings.txt')\n",
    "except FileNotFoundError:\n",
    "    print('Sorry! Onion rings not found >_<')\n",
    "    print('Would you like french fries instead?')\n",
    "finally:\n",
    "    print('You\\'ll have to pay for the pop anyway!')"
   ]
  },
  {
   "cell_type": "markdown",
   "metadata": {},
   "source": [
    "### assert, raise### "
   ]
  },
  {
   "cell_type": "code",
   "execution_count": 20,
   "metadata": {
    "collapsed": false
   },
   "outputs": [
    {
     "name": "stdout",
     "output_type": "stream",
     "text": [
      "Please enter your age: 23\n",
      "Welcome!\n"
     ]
    }
   ],
   "source": [
    "age = int( input('Please enter your age: ') )\n",
    "assert(age > 21)\n",
    "print('Welcome!')"
   ]
  },
  {
   "cell_type": "markdown",
   "metadata": {},
   "source": [
    "Types\n",
    "-----"
   ]
  },
  {
   "cell_type": "markdown",
   "metadata": {},
   "source": [
    "### True, False, None ###"
   ]
  },
  {
   "cell_type": "markdown",
   "metadata": {},
   "source": [
    "Logical\n",
    "-------"
   ]
  },
  {
   "cell_type": "markdown",
   "metadata": {},
   "source": [
    "### and, or, not ###"
   ]
  },
  {
   "cell_type": "markdown",
   "metadata": {},
   "source": [
    "Scope\n",
    "-----"
   ]
  },
  {
   "cell_type": "markdown",
   "metadata": {},
   "source": [
    "###  with, nonlocal, global, del ### "
   ]
  },
  {
   "cell_type": "markdown",
   "metadata": {},
   "source": [
    "Miscellaneous\n",
    "-------------"
   ]
  },
  {
   "cell_type": "markdown",
   "metadata": {},
   "source": [
    "### lambda,  is,  yield ###"
   ]
  },
  {
   "cell_type": "markdown",
   "metadata": {},
   "source": [
    "Sequence types\n",
    "==============\n",
    "Tuples ( )\n",
    "----------\n",
    "Tuples and strings are immutable sequence types"
   ]
  },
  {
   "cell_type": "code",
   "execution_count": 21,
   "metadata": {
    "collapsed": false
   },
   "outputs": [
    {
     "name": "stdout",
     "output_type": "stream",
     "text": [
      "[1, 2, 3]\n"
     ]
    }
   ],
   "source": [
    "t=('abc', 123, [1,2,3])\n",
    "print(t[2])"
   ]
  },
  {
   "cell_type": "markdown",
   "metadata": {},
   "source": [
    "Strings \" \"\n",
    "-----------"
   ]
  },
  {
   "cell_type": "code",
   "execution_count": 22,
   "metadata": {
    "collapsed": false
   },
   "outputs": [
    {
     "name": "stdout",
     "output_type": "stream",
     "text": [
      "w\n"
     ]
    }
   ],
   "source": [
    "s=\"hello world\"\n",
    "print(s[6])"
   ]
  },
  {
   "cell_type": "code",
   "execution_count": 23,
   "metadata": {
    "collapsed": false
   },
   "outputs": [
    {
     "name": "stdout",
     "output_type": "stream",
     "text": [
      "hello world\n",
      "hello saskatoon\n"
     ]
    }
   ],
   "source": [
    "newS = s.replace('world','saskatoon')\n",
    "print(s)\n",
    "print(newS)"
   ]
  },
  {
   "cell_type": "markdown",
   "metadata": {},
   "source": [
    "Lists [ ]\n",
    "--------\n",
    "Lists are mutable types."
   ]
  },
  {
   "cell_type": "code",
   "execution_count": 24,
   "metadata": {
    "collapsed": false
   },
   "outputs": [
    {
     "name": "stdout",
     "output_type": "stream",
     "text": [
      "abc\n"
     ]
    }
   ],
   "source": [
    "a=[1, 2, [3,4], 'abc', (0,'d'), 7]\n",
    "print(a[3])"
   ]
  },
  {
   "cell_type": "code",
   "execution_count": 25,
   "metadata": {
    "collapsed": false
   },
   "outputs": [
    {
     "name": "stdout",
     "output_type": "stream",
     "text": [
      "[1, 2, 'abc', (0, 'd'), 7, 'hi']\n"
     ]
    }
   ],
   "source": [
    "a.append('hi')\n",
    "a.remove([3,4])\n",
    "print(a)"
   ]
  },
  {
   "cell_type": "markdown",
   "metadata": {},
   "source": [
    "Indexing Sequence types\n",
    "-----------------------"
   ]
  },
  {
   "cell_type": "code",
   "execution_count": 26,
   "metadata": {
    "collapsed": false
   },
   "outputs": [
    {
     "name": "stdout",
     "output_type": "stream",
     "text": [
      "[2, 'abc']\n"
     ]
    }
   ],
   "source": [
    "print(a[1:3])"
   ]
  },
  {
   "cell_type": "code",
   "execution_count": 27,
   "metadata": {
    "collapsed": false
   },
   "outputs": [
    {
     "name": "stdout",
     "output_type": "stream",
     "text": [
      "[1, 2, 'abc']\n"
     ]
    }
   ],
   "source": [
    "print(a[:3])"
   ]
  },
  {
   "cell_type": "code",
   "execution_count": 28,
   "metadata": {
    "collapsed": false
   },
   "outputs": [
    {
     "name": "stdout",
     "output_type": "stream",
     "text": [
      "7\n"
     ]
    }
   ],
   "source": [
    "print(a[-2])"
   ]
  },
  {
   "cell_type": "code",
   "execution_count": 29,
   "metadata": {
    "collapsed": false
   },
   "outputs": [
    {
     "name": "stdout",
     "output_type": "stream",
     "text": [
      "[(0, 'd'), 7, 'hi']\n"
     ]
    }
   ],
   "source": [
    "print(a[3:])"
   ]
  },
  {
   "cell_type": "markdown",
   "metadata": {},
   "source": [
    "Dictionaries { }\n",
    "---------------\n",
    "Dictionaries store key value pairs."
   ]
  },
  {
   "cell_type": "code",
   "execution_count": 30,
   "metadata": {
    "collapsed": false
   },
   "outputs": [
    {
     "name": "stdout",
     "output_type": "stream",
     "text": [
      "66\n"
     ]
    }
   ],
   "source": [
    "d = {'a': 65, 'b': 66, 'c': 67}\n",
    "print(d['b'])"
   ]
  },
  {
   "cell_type": "markdown",
   "metadata": {},
   "source": [
    "List Comprehension\n",
    "=================\n",
    "List comprehension is one of the most powerful concept of Python.\n",
    "\n",
    "Get a list of the successful student IDs given a list of marks. "
   ]
  },
  {
   "cell_type": "code",
   "execution_count": 31,
   "metadata": {
    "collapsed": false
   },
   "outputs": [
    {
     "name": "stdout",
     "output_type": "stream",
     "text": [
      "[0, 2, 3, 4, 6, 7]\n"
     ]
    }
   ],
   "source": [
    "successful = []\n",
    "marks=[90, 45, 92, 85, 94, 39, 71, 86]\n",
    "for ID in range( len(marks) ):\n",
    "    if marks[ID] > 70:\n",
    "        successful.append(ID)\n",
    "print(successful)"
   ]
  },
  {
   "cell_type": "code",
   "execution_count": 32,
   "metadata": {
    "collapsed": false
   },
   "outputs": [
    {
     "name": "stdout",
     "output_type": "stream",
     "text": [
      "[0, 2, 3, 4, 6, 7]\n"
     ]
    }
   ],
   "source": [
    "successful = [ID for ID in range(len(marks)) if marks[ID] > 70]\n",
    "print(successful)"
   ]
  },
  {
   "cell_type": "code",
   "execution_count": 33,
   "metadata": {
    "collapsed": false
   },
   "outputs": [
    {
     "name": "stdout",
     "output_type": "stream",
     "text": [
      "[(0, 90), (2, 92), (3, 85), (4, 94), (6, 71), (7, 86)]\n"
     ]
    }
   ],
   "source": [
    "successful = [(ID,marks[ID]) for ID in range(len(marks)) if marks[ID] > 70]\n",
    "print(successful)"
   ]
  },
  {
   "cell_type": "markdown",
   "metadata": {},
   "source": [
    "Files I/O\n",
    "=========\n"
   ]
  },
  {
   "cell_type": "code",
   "execution_count": 34,
   "metadata": {
    "collapsed": true
   },
   "outputs": [],
   "source": [
    "s=['This is line 1.','This is line 2','This is line 3']\n",
    "f=open('myFile.txt','w') # open a file in write mode\n",
    "for l in s:              # write the lines to file\n",
    "    f.write(l+'\\n')\n",
    "f.close()                # close the file"
   ]
  },
  {
   "cell_type": "code",
   "execution_count": 35,
   "metadata": {
    "collapsed": false
   },
   "outputs": [
    {
     "name": "stdout",
     "output_type": "stream",
     "text": [
      "This is line 1.\n",
      "This is line 2\n",
      "This is line 3\n",
      "\n"
     ]
    }
   ],
   "source": [
    "with open('myFile.txt','r') as f: # using 'with' terminates f after use\n",
    "    s=f.read()\n",
    "    #s=f.readlines()\n",
    "print(s)"
   ]
  }
 ],
 "metadata": {
  "anaconda-cloud": {},
  "kernelspec": {
   "display_name": "Python [Root]",
   "language": "python",
   "name": "Python [Root]"
  },
  "language_info": {
   "codemirror_mode": {
    "name": "ipython",
    "version": 3
   },
   "file_extension": ".py",
   "mimetype": "text/x-python",
   "name": "python",
   "nbconvert_exporter": "python",
   "pygments_lexer": "ipython3",
   "version": "3.5.2"
  }
 },
 "nbformat": 4,
 "nbformat_minor": 0
}
