{
 "cells": [
  {
   "cell_type": "markdown",
   "metadata": {
    "nbpresent": {
     "id": "fe109bf9-1341-4e34-814b-cbf46bc0b707"
    },
    "slideshow": {
     "slide_type": "slide"
    }
   },
   "source": [
    "Python for Machine Learning\n",
    "========================\n",
    "In this tutorial we will be exploring a few Python packages useful for Machine Learning such as NumPy, SciPy, Matplotlib, Pandas and Scikit-learn."
   ]
  },
  {
   "cell_type": "markdown",
   "metadata": {
    "nbpresent": {
     "id": "32de0b38-4da0-4c9e-9a17-44c889dc1901"
    },
    "slideshow": {
     "slide_type": "slide"
    }
   },
   "source": [
    "NumPy\n",
    "-----\n",
    "NumPy facilitates fast N-dimensional array creation, storage and manipulation. Here is the link to NumPy reference: http://docs.scipy.org/doc/numpy/user/index.html"
   ]
  },
  {
   "cell_type": "markdown",
   "metadata": {
    "nbpresent": {
     "id": "988e3c9a-8880-41ec-abe6-d67a5f85585f"
    },
    "slideshow": {
     "slide_type": "slide"
    }
   },
   "source": [
    "### Array Creation ###"
   ]
  },
  {
   "cell_type": "code",
   "execution_count": 1,
   "metadata": {
    "collapsed": false,
    "nbpresent": {
     "id": "7c65ce12-37ca-47c0-8ba9-546a6c5f885f"
    },
    "scrolled": true,
    "slideshow": {
     "slide_type": "subslide"
    }
   },
   "outputs": [
    {
     "data": {
      "text/plain": [
       "array([[1, 4, 7],\n",
       "       [2, 5, 8],\n",
       "       [3, 6, 9]])"
      ]
     },
     "execution_count": 1,
     "metadata": {},
     "output_type": "execute_result"
    }
   ],
   "source": [
    "import numpy as np\n",
    "a=np.array([[1,2,3],[4,5,6],[7,8,9]])\n",
    "b=np.random.rand(5,1)\n",
    "c=np.zeros(shape = (5,2))\n",
    "a.T"
   ]
  },
  {
   "cell_type": "code",
   "execution_count": 2,
   "metadata": {
    "collapsed": false,
    "nbpresent": {
     "id": "6c87b485-9cab-445f-9122-59f0f8ce3d2b"
    },
    "slideshow": {
     "slide_type": "subslide"
    }
   },
   "outputs": [
    {
     "data": {
      "text/plain": [
       "array([[2, 3],\n",
       "       [5, 6]])"
      ]
     },
     "execution_count": 2,
     "metadata": {},
     "output_type": "execute_result"
    }
   ],
   "source": [
    "a[0:2,1:3]"
   ]
  },
  {
   "cell_type": "markdown",
   "metadata": {
    "nbpresent": {
     "id": "348d9e55-bd35-47c1-a030-41710bd81e11"
    },
    "slideshow": {
     "slide_type": "slide"
    }
   },
   "source": [
    "### Products ###"
   ]
  },
  {
   "cell_type": "code",
   "execution_count": 3,
   "metadata": {
    "collapsed": false,
    "nbpresent": {
     "id": "49531fd4-0bb8-4240-bc0a-bc663c46afad"
    },
    "slideshow": {
     "slide_type": "subslide"
    }
   },
   "outputs": [
    {
     "data": {
      "text/plain": [
       "array([[ 1.98252521,  1.07031086,  1.52219323],\n",
       "       [ 1.5335216 ,  1.06421531,  1.82856014],\n",
       "       [ 1.87611415,  1.52040031,  1.08434406]])"
      ]
     },
     "execution_count": 3,
     "metadata": {},
     "output_type": "execute_result"
    }
   ],
   "source": [
    "a=np.ones((3,3))\n",
    "b=np.random.rand(3,3)\n",
    "c=a+b\n",
    "c"
   ]
  },
  {
   "cell_type": "code",
   "execution_count": 4,
   "metadata": {
    "collapsed": false,
    "nbpresent": {
     "id": "eca48e83-402e-4d3c-8474-c0181bb0c8b8"
    },
    "slideshow": {
     "slide_type": "subslide"
    }
   },
   "outputs": [
    {
     "name": "stdout",
     "output_type": "stream",
     "text": [
      "('shape of a', (3L, 2L))\n",
      "('shape of b', (2L,))\n",
      "('shape of p', (3L,))\n",
      "[ 3.  3.  3.]\n"
     ]
    }
   ],
   "source": [
    "a = np.ones( (3,2) )\n",
    "b = np.array([1,2])\n",
    "print('shape of a', a.shape)\n",
    "print('shape of b', b.shape)\n",
    "\n",
    "p = a.dot(b)\n",
    "print('shape of p', p.shape)\n",
    "print(p)"
   ]
  },
  {
   "cell_type": "markdown",
   "metadata": {
    "nbpresent": {
     "id": "bd75d7b9-360b-4a86-98f7-da6f5df631eb"
    },
    "slideshow": {
     "slide_type": "slide"
    }
   },
   "source": [
    "Matplotlib\n",
    "----------\n",
    "Visualization of data plays a key role in Machine Learning; \n",
    "Python's functionality for plotting data resides in the Matplotlib package.  "
   ]
  },
  {
   "cell_type": "code",
   "execution_count": 5,
   "metadata": {
    "collapsed": false,
    "nbpresent": {
     "id": "80463c1a-7008-4c57-9e7d-7ae094d4c3ef"
    },
    "slideshow": {
     "slide_type": "subslide"
    }
   },
   "outputs": [
    {
     "data": {
      "image/png": "[encoded data removed]",
      "text/plain": [
       "<matplotlib.figure.Figure at 0x3f6dcc0>"
      ]
     },
     "metadata": {},
     "output_type": "display_data"
    }
   ],
   "source": [
    "from matplotlib import pyplot as plt\n",
    "%matplotlib inline\n",
    "x=np.linspace(0,20,200)\n",
    "y1=np.exp(-0.1*x)*np.sin(x)\n",
    "y2=np.exp(-0.3*x)*np.sin(x)\n",
    "plt.plot(x,y1)\n",
    "plt.plot(x,y2)\n",
    "plt.title('Just enough!')\n",
    "plt.show()"
   ]
  },
  {
   "cell_type": "code",
   "execution_count": 6,
   "metadata": {
    "collapsed": false,
    "nbpresent": {
     "id": "36cb1578-18e3-4599-bbc4-e6cd69649720"
    },
    "slideshow": {
     "slide_type": "slide"
    }
   },
   "outputs": [
    {
     "data": {
      "image/png": "[encoded data removed]",
      "text/plain": [
       "<matplotlib.figure.Figure at 0x44efeb8>"
      ]
     },
     "metadata": {},
     "output_type": "display_data"
    }
   ],
   "source": [
    "plt.plot(x,y1, label='original' ,linewidth=4, linestyle='-')\n",
    "plt.plot(x,y2, label='predicted',linewidth=4, linestyle='--')\n",
    "plt.xlabel('time in seconds',fontsize=12)\n",
    "plt.ylabel(r'some important quantity',fontsize=12)\n",
    "plt.title('This is better!',fontsize=20)\n",
    "plt.legend()\n",
    "plt.show()"
   ]
  },
  {
   "cell_type": "markdown",
   "metadata": {
    "nbpresent": {
     "id": "32e7536b-a6ea-41e8-9a05-e4d4446b5a03"
    },
    "slideshow": {
     "slide_type": "slide"
    }
   },
   "source": [
    "SciPy\n",
    "-----\n",
    "* A collection of mathematical algorithms\n",
    "* Gives Python similar capabilities as Matlab\n",
    "* Many submodules are used for different domains\n",
    "* We will see examples from `linalg` and `optimize` submodules\n",
    "* For details: http://docs.scipy.org/doc/scipy/reference/tutorial/index.html\n"
   ]
  },
  {
   "cell_type": "markdown",
   "metadata": {
    "nbpresent": {
     "id": "8088e4f7-4f67-4eea-b598-91996c407b9d"
    },
    "slideshow": {
     "slide_type": "slide"
    }
   },
   "source": [
    "### `linalg`: Linear Algebra submodule ###\n",
    "Linear algebra submodule provides several routines for matrix computations. For example to find the inverse of matrix $A$\n",
    "\n",
    "$$\n",
    "A = \\left[\\begin{array}{ccc} \n",
    "5 & 3 & 5\\\\\n",
    "2 & 2 & 0\\\\\n",
    "1 & 3 & 1\n",
    "\\end{array}\\right]\n",
    "$$ "
   ]
  },
  {
   "cell_type": "code",
   "execution_count": 7,
   "metadata": {
    "collapsed": false,
    "nbpresent": {
     "id": "c78afc63-80a5-4238-b611-07c79302e586"
    },
    "slideshow": {
     "slide_type": "subslide"
    }
   },
   "outputs": [
    {
     "name": "stdout",
     "output_type": "stream",
     "text": [
      "[[5 3 5]\n",
      " [2 2 0]\n",
      " [1 3 1]]\n"
     ]
    }
   ],
   "source": [
    "from scipy import linalg as la\n",
    "A = np.array([\n",
    "             [5,3,5], \\\n",
    "             [2,2,0], \\\n",
    "             [1,3,1]])\n",
    "iA = A#la.inv(A)\n",
    "print(iA)"
   ]
  },
  {
   "cell_type": "markdown",
   "metadata": {
    "nbpresent": {
     "id": "394b010f-0540-41c6-b004-14c037115edb"
    },
    "slideshow": {
     "slide_type": "slide"
    }
   },
   "source": [
    "Solving linear systems of equations\n",
    "$$\n",
    "Ax=b\\\\\n",
    "$$\n",
    "$$\n",
    "\\left[\\begin{array}{ccc} \n",
    "5 & 3 & 5\\\\\n",
    "2 & 2 & 0\\\\\n",
    "1 & 3 & 1\n",
    "\\end{array}\\right]\n",
    "\\left[\\begin{array}{c} \n",
    "x_1 \\\\\n",
    "x_2 \\\\\n",
    "x_3 \n",
    "\\end{array}\\right] \n",
    "=\\left[\\begin{array}{c} \n",
    "2 \\\\\n",
    "5 \\\\\n",
    "1\n",
    "\\end{array}\\right]\n",
    "$$ \n"
   ]
  },
  {
   "cell_type": "code",
   "execution_count": 8,
   "metadata": {
    "collapsed": false,
    "nbpresent": {
     "id": "8764e6f3-4fcd-44d9-a13e-aebdb7434bed"
    },
    "slideshow": {
     "slide_type": "subslide"
    }
   },
   "outputs": [
    {
     "name": "stdout",
     "output_type": "stream",
     "text": [
      "('Solution:', array([ 2.25,  0.25, -2.  ]))\n"
     ]
    }
   ],
   "source": [
    "A = np.array([\n",
    "             [5,3,5], \\\n",
    "             [2,2,0], \\\n",
    "             [1,3,1]])\n",
    "b = np.array([ 2, 5, 1])\n",
    "x = la.solve(A,b)\n",
    "print('Solution:', x)\n",
    "# x = la.inv(A).dot(b) # same result\n"
   ]
  },
  {
   "cell_type": "markdown",
   "metadata": {
    "nbpresent": {
     "id": "072863ed-e9c7-4cfd-8151-9c1b48a14a91"
    },
    "slideshow": {
     "slide_type": "slide"
    }
   },
   "source": [
    "Matrix Decomposition\n",
    "$$\n",
    "\\left[\\begin{array}{ccc} \n",
    "a_{11} & a_{12} & a_{13}\\\\\n",
    "a_{21} & a_{22} & a_{23}\\\\\n",
    "a_{31} & a_{32} & a_{33}\n",
    "\\end{array}\\right] =\n",
    "\\left[\\begin{array}{ccc} \n",
    "l_{11} & 0 & 0\\\\\n",
    "l_{21} & l_{22} & 0\\\\\n",
    "l_{31} & l_{32} & l_{33}\n",
    "\\end{array}\\right]\n",
    "\\left[\\begin{array}{ccc} \n",
    "u_{11} & u_{12} & u_{13}\\\\\n",
    "0 & u_{22} & u_{23}\\\\\n",
    "0 & 0 & u_{33}\n",
    "\\end{array}\\right]\n",
    "$$ "
   ]
  },
  {
   "cell_type": "code",
   "execution_count": 9,
   "metadata": {
    "collapsed": false,
    "nbpresent": {
     "id": "a318cb1b-187f-41ab-93f8-7cea2ba379eb"
    },
    "slideshow": {
     "slide_type": "subslide"
    }
   },
   "outputs": [
    {
     "name": "stdout",
     "output_type": "stream",
     "text": [
      "('L = \\n', array([[ 1.        ,  0.        ,  0.        ],\n",
      "       [ 0.2       ,  1.        ,  0.        ],\n",
      "       [ 0.4       ,  0.33333333,  1.        ]]))\n",
      "('U = \\n', array([[ 5. ,  3. ,  5. ],\n",
      "       [ 0. ,  2.4,  0. ],\n",
      "       [ 0. ,  0. , -2. ]]))\n"
     ]
    }
   ],
   "source": [
    "p,l,u = la.lu(A,permute_l=False)\n",
    "print('L = \\n',l)\n",
    "print('U = \\n',u)"
   ]
  },
  {
   "cell_type": "markdown",
   "metadata": {
    "nbpresent": {
     "id": "91723df6-f92d-4ad6-a8a7-55003f3859ba"
    },
    "slideshow": {
     "slide_type": "slide"
    }
   },
   "source": [
    "### `optimize`: Optimization submodule ###\n",
    "`optimize` implements several optimization algorithms. Optimization is finding the minimum or maximum value of a function. In this demonstration we will find the minimum of the `Levy` function:\n",
    "$$f(x,y)=\\sin ^{2}\\left(3\\pi x\\right)+\\left(x-1\\right)^{2}\\left(1+\\sin ^{2}\\left(3\\pi y\\right)\\right)\n",
    "{\\displaystyle +\\left(y-1\\right)^{2}\\left(1+\\sin ^{2}\\left(2\\pi y\\right)\\right)} +\\left(y-1\\right)^{2}\\left(1+\\sin ^{2}\\left(2\\pi y\\right)\\right)$$"
   ]
  },
  {
   "cell_type": "code",
   "execution_count": 10,
   "metadata": {
    "collapsed": true,
    "nbpresent": {
     "id": "b70994a3-6a6c-43ee-ad83-a6a913a8f808"
    },
    "slideshow": {
     "slide_type": "subslide"
    }
   },
   "outputs": [],
   "source": [
    "def obj(x):\n",
    "    f = (np.sin(3*np.pi*x[0]))**2  +\\\n",
    "        (x[0]-1)**2 * (1+(np.sin(3*np.pi*x[1]))**2) +\\\n",
    "        (x[1]-1)**2 * (1+(np.sin(2*np.pi*x[1]))**2)\n",
    "    #f=x[0]**2 + x[1]**2\n",
    "    return f"
   ]
  },
  {
   "cell_type": "markdown",
   "metadata": {},
   "source": [
    "### Visualizing the objective function ###"
   ]
  },
  {
   "cell_type": "code",
   "execution_count": 11,
   "metadata": {
    "collapsed": false,
    "nbpresent": {
     "id": "f0b88664-df67-4a8a-b9f7-bf23cc85822f"
    },
    "slideshow": {
     "slide_type": "slide"
    }
   },
   "outputs": [
    {
     "name": "stderr",
     "output_type": "stream",
     "text": [
      "C:\\Users\\Najeeb\\Anaconda2\\lib\\site-packages\\matplotlib\\collections.py:590: FutureWarning: elementwise comparison failed; returning scalar instead, but in the future will perform elementwise comparison\n",
      "  if self._edgecolors == str('face'):\n"
     ]
    },
    {
     "data": {
      "image/png": "[encoded data removed]",
      "text/plain": [
       "<matplotlib.figure.Figure at 0x71100f0>"
      ]
     },
     "metadata": {},
     "output_type": "display_data"
    }
   ],
   "source": [
    "# Just for the visualization\n",
    "def obj1(x,y):\n",
    "    f = (np.sin(3*np.pi*x))**2  +\\\n",
    "        (x-1)**2 * (1+(np.sin(3*np.pi*y))**2) +\\\n",
    "        (y-1)**2 * (1+(np.sin(2*np.pi*y))**2) \n",
    "    #f=x**2 + y**2\n",
    "    return f\n",
    "\n",
    "from mpl_toolkits.mplot3d import Axes3D\n",
    "from matplotlib import cm\n",
    "fig = plt.figure()\n",
    "ax = fig.gca(projection='3d')\n",
    "X = np.arange(-10, 10, 0.3)\n",
    "Y = np.arange(-10, 10, 0.3)\n",
    "X, Y = np.meshgrid(X, Y)\n",
    "Z = obj1(X,Y)\n",
    "surf = ax.plot_surface(X, Y, Z, cmap=cm.jet, rstride=1, cstride=1 )\n",
    "plt.show()"
   ]
  },
  {
   "cell_type": "markdown",
   "metadata": {},
   "source": [
    "### Minimizing the objective function ###"
   ]
  },
  {
   "cell_type": "code",
   "execution_count": 12,
   "metadata": {
    "collapsed": false,
    "nbpresent": {
     "id": "8fe29a06-3f98-4e36-aa07-ba21b78af211"
    },
    "slideshow": {
     "slide_type": "slide"
    }
   },
   "outputs": [
    {
     "name": "stdout",
     "output_type": "stream",
     "text": [
      "('Minimum value: ', 9.2670570627262192e-10)\n",
      "('At x: ', array([ 1.0000027 ,  1.00001646]))\n",
      "Analitical global minimum is at x = [1, 1] with value 0\n"
     ]
    }
   ],
   "source": [
    "# minimizing function\n",
    "from scipy import optimize as opt\n",
    "res = opt.minimize(obj, x0=[0.85,1.2], method='nelder-mead', options={'maxfev':1e6, 'maxiter':1e6} )\n",
    "print('Minimum value: ',res.fun)\n",
    "print('At x: ',res.x)\n",
    "print('Analitical global minimum is at x = [1, 1] with value 0')"
   ]
  },
  {
   "cell_type": "markdown",
   "metadata": {
    "nbpresent": {
     "id": "295177a7-e157-4493-baba-fbfbd4df8366"
    },
    "slideshow": {
     "slide_type": "slide"
    }
   },
   "source": [
    "Pandas\n",
    "------\n",
    "\n",
    "`pandas` provides easy-to-use data structures and data analysis tools for Python.\n",
    "A good reference for Pandas is the cookbook available at: http://pandas.pydata.org/pandas-docs/stable/cookbook.html\n",
    "\n",
    "The design matrix contains features as columns and examples as rows. In `pandas` jargon the design matrix is called a data frame; the examples are called series.\n",
    "\n",
    "$$\n",
    "D=\\begin{pmatrix}\n",
    "  &length & width & \\cdots & type  \\\\\n",
    "  S_1&80 & 25 & \\cdots & 0 \\\\\n",
    "  S_2&130 & 65 & \\cdots & 1 \\\\\n",
    "  \\vdots&\\vdots  & \\vdots  & \\ddots & \\vdots  \\\\\n",
    "  S_m&110 & 29 & \\cdots & 0 \n",
    " \\end{pmatrix}\n",
    "$$"
   ]
  },
  {
   "cell_type": "markdown",
   "metadata": {},
   "source": [
    "### Data Frame Creation ###"
   ]
  },
  {
   "cell_type": "code",
   "execution_count": 13,
   "metadata": {
    "collapsed": true
   },
   "outputs": [],
   "source": [
    "import pandas as pd\n",
    "from matplotlib import pyplot as plt\n",
    "url='http://archive.ics.uci.edu/ml/machine-learning-databases/iris/iris.data'\n",
    "df=pd.read_csv(url)\n",
    "#df = pd.DataFrame(data,columns=['x','y','C'])\n",
    "#df=pd.read_csv('iris.data')\n",
    "df.columns=['sepal_length','sepal_width','petal_length','petal_width','flower_type']\n",
    "df['flower_type'] = df['flower_type'].astype('category')\n",
    "df.flower_type = df.flower_type.cat.rename_categories([0,1,2])"
   ]
  },
  {
   "cell_type": "markdown",
   "metadata": {},
   "source": [
    "### Basic Analysis ###"
   ]
  },
  {
   "cell_type": "code",
   "execution_count": 14,
   "metadata": {
    "collapsed": false,
    "nbpresent": {
     "id": "097c19a3-2156-4fab-898c-885a27f3f977"
    },
    "slideshow": {
     "slide_type": "subslide"
    }
   },
   "outputs": [
    {
     "data": {
      "text/html": [
       "<div>\n",
       "<table border=\"1\" class=\"dataframe\">\n",
       "  <thead>\n",
       "    <tr style=\"text-align: right;\">\n",
       "      <th></th>\n",
       "      <th>sepal_length</th>\n",
       "      <th>sepal_width</th>\n",
       "      <th>petal_length</th>\n",
       "      <th>petal_width</th>\n",
       "      <th>flower_type</th>\n",
       "    </tr>\n",
       "  </thead>\n",
       "  <tbody>\n",
       "    <tr>\n",
       "      <th>0</th>\n",
       "      <td>4.9</td>\n",
       "      <td>3.0</td>\n",
       "      <td>1.4</td>\n",
       "      <td>0.2</td>\n",
       "      <td>0</td>\n",
       "    </tr>\n",
       "    <tr>\n",
       "      <th>1</th>\n",
       "      <td>4.7</td>\n",
       "      <td>3.2</td>\n",
       "      <td>1.3</td>\n",
       "      <td>0.2</td>\n",
       "      <td>0</td>\n",
       "    </tr>\n",
       "    <tr>\n",
       "      <th>2</th>\n",
       "      <td>4.6</td>\n",
       "      <td>3.1</td>\n",
       "      <td>1.5</td>\n",
       "      <td>0.2</td>\n",
       "      <td>0</td>\n",
       "    </tr>\n",
       "    <tr>\n",
       "      <th>3</th>\n",
       "      <td>5.0</td>\n",
       "      <td>3.6</td>\n",
       "      <td>1.4</td>\n",
       "      <td>0.2</td>\n",
       "      <td>0</td>\n",
       "    </tr>\n",
       "    <tr>\n",
       "      <th>4</th>\n",
       "      <td>5.4</td>\n",
       "      <td>3.9</td>\n",
       "      <td>1.7</td>\n",
       "      <td>0.4</td>\n",
       "      <td>0</td>\n",
       "    </tr>\n",
       "  </tbody>\n",
       "</table>\n",
       "</div>"
      ],
      "text/plain": [
       "   sepal_length  sepal_width  petal_length  petal_width flower_type\n",
       "0           4.9          3.0           1.4          0.2           0\n",
       "1           4.7          3.2           1.3          0.2           0\n",
       "2           4.6          3.1           1.5          0.2           0\n",
       "3           5.0          3.6           1.4          0.2           0\n",
       "4           5.4          3.9           1.7          0.4           0"
      ]
     },
     "execution_count": 14,
     "metadata": {},
     "output_type": "execute_result"
    }
   ],
   "source": [
    "df.head()"
   ]
  },
  {
   "cell_type": "code",
   "execution_count": 15,
   "metadata": {
    "collapsed": false,
    "nbpresent": {
     "id": "22d53113-99e6-4014-8bd4-829a2d1735ac"
    },
    "slideshow": {
     "slide_type": "subslide"
    }
   },
   "outputs": [
    {
     "data": {
      "text/plain": [
       "sepal_length     float64\n",
       "sepal_width      float64\n",
       "petal_length     float64\n",
       "petal_width      float64\n",
       "flower_type     category\n",
       "dtype: object"
      ]
     },
     "execution_count": 15,
     "metadata": {},
     "output_type": "execute_result"
    }
   ],
   "source": [
    "df.dtypes"
   ]
  },
  {
   "cell_type": "code",
   "execution_count": 16,
   "metadata": {
    "collapsed": false,
    "nbpresent": {
     "id": "92b2d4a3-28d0-4b59-869c-a15889776d7c"
    },
    "slideshow": {
     "slide_type": "subslide"
    }
   },
   "outputs": [
    {
     "data": {
      "text/html": [
       "<div>\n",
       "<table border=\"1\" class=\"dataframe\">\n",
       "  <thead>\n",
       "    <tr style=\"text-align: right;\">\n",
       "      <th></th>\n",
       "      <th>sepal_length</th>\n",
       "      <th>sepal_width</th>\n",
       "      <th>petal_length</th>\n",
       "      <th>petal_width</th>\n",
       "    </tr>\n",
       "  </thead>\n",
       "  <tbody>\n",
       "    <tr>\n",
       "      <th>count</th>\n",
       "      <td>149.000000</td>\n",
       "      <td>149.000000</td>\n",
       "      <td>149.000000</td>\n",
       "      <td>149.000000</td>\n",
       "    </tr>\n",
       "    <tr>\n",
       "      <th>mean</th>\n",
       "      <td>5.848322</td>\n",
       "      <td>3.051007</td>\n",
       "      <td>3.774497</td>\n",
       "      <td>1.205369</td>\n",
       "    </tr>\n",
       "    <tr>\n",
       "      <th>std</th>\n",
       "      <td>0.828594</td>\n",
       "      <td>0.433499</td>\n",
       "      <td>1.759651</td>\n",
       "      <td>0.761292</td>\n",
       "    </tr>\n",
       "    <tr>\n",
       "      <th>min</th>\n",
       "      <td>4.300000</td>\n",
       "      <td>2.000000</td>\n",
       "      <td>1.000000</td>\n",
       "      <td>0.100000</td>\n",
       "    </tr>\n",
       "    <tr>\n",
       "      <th>25%</th>\n",
       "      <td>5.100000</td>\n",
       "      <td>2.800000</td>\n",
       "      <td>1.600000</td>\n",
       "      <td>0.300000</td>\n",
       "    </tr>\n",
       "    <tr>\n",
       "      <th>50%</th>\n",
       "      <td>5.800000</td>\n",
       "      <td>3.000000</td>\n",
       "      <td>4.400000</td>\n",
       "      <td>1.300000</td>\n",
       "    </tr>\n",
       "    <tr>\n",
       "      <th>75%</th>\n",
       "      <td>6.400000</td>\n",
       "      <td>3.300000</td>\n",
       "      <td>5.100000</td>\n",
       "      <td>1.800000</td>\n",
       "    </tr>\n",
       "    <tr>\n",
       "      <th>max</th>\n",
       "      <td>7.900000</td>\n",
       "      <td>4.400000</td>\n",
       "      <td>6.900000</td>\n",
       "      <td>2.500000</td>\n",
       "    </tr>\n",
       "  </tbody>\n",
       "</table>\n",
       "</div>"
      ],
      "text/plain": [
       "       sepal_length  sepal_width  petal_length  petal_width\n",
       "count    149.000000   149.000000    149.000000   149.000000\n",
       "mean       5.848322     3.051007      3.774497     1.205369\n",
       "std        0.828594     0.433499      1.759651     0.761292\n",
       "min        4.300000     2.000000      1.000000     0.100000\n",
       "25%        5.100000     2.800000      1.600000     0.300000\n",
       "50%        5.800000     3.000000      4.400000     1.300000\n",
       "75%        6.400000     3.300000      5.100000     1.800000\n",
       "max        7.900000     4.400000      6.900000     2.500000"
      ]
     },
     "execution_count": 16,
     "metadata": {},
     "output_type": "execute_result"
    }
   ],
   "source": [
    "df.describe()"
   ]
  },
  {
   "cell_type": "code",
   "execution_count": 17,
   "metadata": {
    "collapsed": false
   },
   "outputs": [
    {
     "data": {
      "text/plain": [
       "count     149\n",
       "unique      3\n",
       "top         2\n",
       "freq       50\n",
       "Name: flower_type, dtype: int64"
      ]
     },
     "execution_count": 17,
     "metadata": {},
     "output_type": "execute_result"
    }
   ],
   "source": [
    "df['flower_type'].describe()"
   ]
  },
  {
   "cell_type": "markdown",
   "metadata": {},
   "source": [
    "### Data Frame Visualization ###"
   ]
  },
  {
   "cell_type": "code",
   "execution_count": 18,
   "metadata": {
    "collapsed": false,
    "nbpresent": {
     "id": "af4379dd-cd6f-455e-8a17-2643c6539630"
    }
   },
   "outputs": [
    {
     "data": {
      "image/png": "[encoded data removed]",
      "text/plain": [
       "<matplotlib.figure.Figure at 0x70f4cf8>"
      ]
     },
     "metadata": {},
     "output_type": "display_data"
    }
   ],
   "source": [
    "df.hist()\n",
    "plt.show()"
   ]
  },
  {
   "cell_type": "code",
   "execution_count": 19,
   "metadata": {
    "collapsed": false,
    "nbpresent": {
     "id": "390268a2-762c-420f-858c-5855e5b611d9"
    }
   },
   "outputs": [
    {
     "data": {
      "image/png": "[encoded data removed]",
      "text/plain": [
       "<matplotlib.figure.Figure at 0x3f86be0>"
      ]
     },
     "metadata": {},
     "output_type": "display_data"
    }
   ],
   "source": [
    "pd.scatter_matrix(df, diagonal='kde')\n",
    "plt.show()"
   ]
  },
  {
   "cell_type": "markdown",
   "metadata": {},
   "source": [
    "### Operations on the Data Frame ###"
   ]
  },
  {
   "cell_type": "code",
   "execution_count": 20,
   "metadata": {
    "collapsed": false,
    "nbpresent": {
     "id": "ea186e01-1b27-492b-91c7-30c571242ae3"
    }
   },
   "outputs": [
    {
     "data": {
      "text/html": [
       "<div>\n",
       "<table border=\"1\" class=\"dataframe\">\n",
       "  <thead>\n",
       "    <tr style=\"text-align: right;\">\n",
       "      <th></th>\n",
       "      <th>sepal_length</th>\n",
       "      <th>sepal_width</th>\n",
       "      <th>petal_length</th>\n",
       "      <th>petal_width</th>\n",
       "      <th>flower_type</th>\n",
       "    </tr>\n",
       "  </thead>\n",
       "  <tbody>\n",
       "    <tr>\n",
       "      <th>59</th>\n",
       "      <td>5.0</td>\n",
       "      <td>2.0</td>\n",
       "      <td>3.5</td>\n",
       "      <td>1.0</td>\n",
       "      <td>1</td>\n",
       "    </tr>\n",
       "    <tr>\n",
       "      <th>61</th>\n",
       "      <td>6.0</td>\n",
       "      <td>2.2</td>\n",
       "      <td>4.0</td>\n",
       "      <td>1.0</td>\n",
       "      <td>1</td>\n",
       "    </tr>\n",
       "    <tr>\n",
       "      <th>118</th>\n",
       "      <td>6.0</td>\n",
       "      <td>2.2</td>\n",
       "      <td>5.0</td>\n",
       "      <td>1.5</td>\n",
       "      <td>2</td>\n",
       "    </tr>\n",
       "    <tr>\n",
       "      <th>67</th>\n",
       "      <td>6.2</td>\n",
       "      <td>2.2</td>\n",
       "      <td>4.5</td>\n",
       "      <td>1.5</td>\n",
       "      <td>1</td>\n",
       "    </tr>\n",
       "    <tr>\n",
       "      <th>92</th>\n",
       "      <td>5.0</td>\n",
       "      <td>2.3</td>\n",
       "      <td>3.3</td>\n",
       "      <td>1.0</td>\n",
       "      <td>1</td>\n",
       "    </tr>\n",
       "  </tbody>\n",
       "</table>\n",
       "</div>"
      ],
      "text/plain": [
       "     sepal_length  sepal_width  petal_length  petal_width flower_type\n",
       "59            5.0          2.0           3.5          1.0           1\n",
       "61            6.0          2.2           4.0          1.0           1\n",
       "118           6.0          2.2           5.0          1.5           2\n",
       "67            6.2          2.2           4.5          1.5           1\n",
       "92            5.0          2.3           3.3          1.0           1"
      ]
     },
     "execution_count": 20,
     "metadata": {},
     "output_type": "execute_result"
    }
   ],
   "source": [
    "df = df.sort_values(by='sepal_width')\n",
    "df.head()"
   ]
  },
  {
   "cell_type": "code",
   "execution_count": 21,
   "metadata": {
    "collapsed": false
   },
   "outputs": [
    {
     "data": {
      "image/png": "[encoded data removed]",
      "text/plain": [
       "<matplotlib.figure.Figure at 0x160c7550>"
      ]
     },
     "metadata": {},
     "output_type": "display_data"
    }
   ],
   "source": [
    "# Normalizing your data set\n",
    "df=df.ix[:,0:4].apply( lambda f: ( f - f.mean() )/( f.max() - f.min() ) )\n",
    "\n",
    "df.hist()\n",
    "plt.show()"
   ]
  },
  {
   "cell_type": "code",
   "execution_count": 22,
   "metadata": {
    "collapsed": false,
    "nbpresent": {
     "id": "8a5de03b-ef0a-4045-a3ae-69fb7dc307f5"
    },
    "scrolled": true
   },
   "outputs": [
    {
     "data": {
      "text/html": [
       "<div>\n",
       "<table border=\"1\" class=\"dataframe\">\n",
       "  <thead>\n",
       "    <tr style=\"text-align: right;\">\n",
       "      <th></th>\n",
       "      <th>sepal_length</th>\n",
       "      <th>sepal_width</th>\n",
       "      <th>petal_length</th>\n",
       "      <th>petal_width</th>\n",
       "    </tr>\n",
       "  </thead>\n",
       "  <tbody>\n",
       "    <tr>\n",
       "      <th>83</th>\n",
       "      <td>-0.124534</td>\n",
       "      <td>-0.021253</td>\n",
       "      <td>0.122967</td>\n",
       "      <td>0.122763</td>\n",
       "    </tr>\n",
       "    <tr>\n",
       "      <th>47</th>\n",
       "      <td>-0.152312</td>\n",
       "      <td>0.270414</td>\n",
       "      <td>-0.385508</td>\n",
       "      <td>-0.418904</td>\n",
       "    </tr>\n",
       "    <tr>\n",
       "      <th>68</th>\n",
       "      <td>-0.068978</td>\n",
       "      <td>-0.229586</td>\n",
       "      <td>0.021272</td>\n",
       "      <td>-0.043904</td>\n",
       "    </tr>\n",
       "    <tr>\n",
       "      <th>135</th>\n",
       "      <td>0.125466</td>\n",
       "      <td>0.145414</td>\n",
       "      <td>0.309407</td>\n",
       "      <td>0.497763</td>\n",
       "    </tr>\n",
       "    <tr>\n",
       "      <th>50</th>\n",
       "      <td>0.153244</td>\n",
       "      <td>0.062081</td>\n",
       "      <td>0.122967</td>\n",
       "      <td>0.122763</td>\n",
       "    </tr>\n",
       "  </tbody>\n",
       "</table>\n",
       "</div>"
      ],
      "text/plain": [
       "     sepal_length  sepal_width  petal_length  petal_width\n",
       "83      -0.124534    -0.021253      0.122967     0.122763\n",
       "47      -0.152312     0.270414     -0.385508    -0.418904\n",
       "68      -0.068978    -0.229586      0.021272    -0.043904\n",
       "135      0.125466     0.145414      0.309407     0.497763\n",
       "50       0.153244     0.062081      0.122967     0.122763"
      ]
     },
     "execution_count": 22,
     "metadata": {},
     "output_type": "execute_result"
    }
   ],
   "source": [
    "# Get a random sample from the data set\n",
    "df=df.sample(frac=1.0)\n",
    "df.head()"
   ]
  },
  {
   "cell_type": "code",
   "execution_count": 23,
   "metadata": {
    "collapsed": false
   },
   "outputs": [],
   "source": [
    "# Split the data set into test and train set\n",
    "train=df.sample(frac=0.8,random_state=123)\n",
    "test=df.drop(train.index)"
   ]
  },
  {
   "cell_type": "markdown",
   "metadata": {},
   "source": [
    "### Read/Write ###"
   ]
  },
  {
   "cell_type": "code",
   "execution_count": 24,
   "metadata": {
    "collapsed": false,
    "nbpresent": {
     "id": "e9f998b3-3a63-46b3-8f20-c903c585570b"
    }
   },
   "outputs": [],
   "source": [
    "df.to_csv('iris_normalized.csv')\n",
    "new_df = pd.read_csv('iris_normalized.csv')"
   ]
  },
  {
   "cell_type": "markdown",
   "metadata": {
    "nbpresent": {
     "id": "e8b28ec2-97ce-4aa7-9c98-ee4536a2dc73"
    }
   },
   "source": [
    "scikit-learn\n",
    "-------------\n",
    "\n",
    "A level above SciPy is Scikit-learn that implements many classification, regression and clustering algorithms. For details: http://scikit-learn.org/stable/tutorial/basic/tutorial.html"
   ]
  },
  {
   "cell_type": "markdown",
   "metadata": {},
   "source": [
    "### Import the dataset ###"
   ]
  },
  {
   "cell_type": "code",
   "execution_count": 25,
   "metadata": {
    "collapsed": false
   },
   "outputs": [],
   "source": [
    "from sklearn import svm\n",
    "from sklearn import datasets\n",
    "iris = datasets.load_iris()\n",
    "X, y = iris.data, iris.target\n"
   ]
  },
  {
   "cell_type": "code",
   "execution_count": null,
   "metadata": {
    "collapsed": true
   },
   "outputs": [],
   "source": []
  },
  {
   "cell_type": "markdown",
   "metadata": {},
   "source": [
    "### Train the classifier ###"
   ]
  },
  {
   "cell_type": "code",
   "execution_count": 26,
   "metadata": {
    "collapsed": false,
    "nbpresent": {
     "id": "cdf3a822-a839-4c01-ad73-cc837baeef01"
    }
   },
   "outputs": [
    {
     "data": {
      "text/plain": [
       "SVC(C=1.0, cache_size=200, class_weight=None, coef0=0.0,\n",
       "  decision_function_shape=None, degree=3, gamma='auto', kernel='rbf',\n",
       "  max_iter=-1, probability=False, random_state=None, shrinking=True,\n",
       "  tol=0.001, verbose=False)"
      ]
     },
     "execution_count": 26,
     "metadata": {},
     "output_type": "execute_result"
    }
   ],
   "source": [
    "clf = svm.SVC()\n",
    "clf.fit(X, y) "
   ]
  },
  {
   "cell_type": "markdown",
   "metadata": {},
   "source": [
    "### Make prediction ### "
   ]
  },
  {
   "cell_type": "code",
   "execution_count": 27,
   "metadata": {
    "collapsed": false
   },
   "outputs": [
    {
     "data": {
      "text/plain": [
       "array([0, 0, 1, 1, 2, 2])"
      ]
     },
     "execution_count": 27,
     "metadata": {},
     "output_type": "execute_result"
    }
   ],
   "source": [
    "clf.predict(iris.data[range(0,150,25)])"
   ]
  },
  {
   "cell_type": "code",
   "execution_count": 28,
   "metadata": {
    "collapsed": false
   },
   "outputs": [
    {
     "data": {
      "text/plain": [
       "array([0, 0, 1, 1, 2, 2])"
      ]
     },
     "execution_count": 28,
     "metadata": {},
     "output_type": "execute_result"
    }
   ],
   "source": [
    "iris.target[range(0,150,25)]"
   ]
  }
 ],
 "metadata": {
  "anaconda-cloud": {},
  "kernelspec": {
   "display_name": "Python 2",
   "language": "python",
   "name": "python2"
  },
  "language_info": {
   "codemirror_mode": {
    "name": "ipython",
    "version": 2
   },
   "file_extension": ".py",
   "mimetype": "text/x-python",
   "name": "python",
   "nbconvert_exporter": "python",
   "pygments_lexer": "ipython2",
   "version": "2.7.11"
  },
  "nbpresent": {
   "slides": {
    "0c9e745d-6bd5-4c0e-8d7a-b048dd0b2703": {
     "id": "0c9e745d-6bd5-4c0e-8d7a-b048dd0b2703",
     "prev": "ed83e361-8bc4-43af-b0ff-ec44c263f72c",
     "regions": {
      "c0e09d86-a6e6-496a-b8c4-d2b200bea3f5": {
       "attrs": {
        "height": 0.8,
        "width": 0.8,
        "x": 0.1,
        "y": 0.1
       },
       "content": {
        "cell": "f36b2f8f-f5b2-4b67-95ff-a7c9b6a2d7fe",
        "part": "whole"
       },
       "id": "c0e09d86-a6e6-496a-b8c4-d2b200bea3f5"
      }
     }
    },
    "13a5fc59-555e-470e-aa19-d63dc3967ed5": {
     "id": "13a5fc59-555e-470e-aa19-d63dc3967ed5",
     "prev": "8645aa8c-b6d0-4e01-8135-5a6dfd6d5393",
     "regions": {
      "9649fcf2-17d5-4562-951c-aeab270b745d": {
       "attrs": {
        "height": 0.8,
        "width": 0.8,
        "x": 0.1,
        "y": 0.1
       },
       "content": {
        "cell": "6c87b485-9cab-445f-9122-59f0f8ce3d2b",
        "part": "whole"
       },
       "id": "9649fcf2-17d5-4562-951c-aeab270b745d"
      }
     }
    },
    "1b368f2f-96ae-426f-b4e8-71d8bbfbd97b": {
     "id": "1b368f2f-96ae-426f-b4e8-71d8bbfbd97b",
     "prev": "5b2a7a8e-5a7f-4c3a-a5e3-cc2892b3ca3a",
     "regions": {
      "de72b2d6-734d-4686-9236-a3b7a2e5ee95": {
       "attrs": {
        "height": 0.8,
        "width": 0.8,
        "x": 0.1,
        "y": 0.1
       },
       "content": {
        "cell": "36cb1578-18e3-4599-bbc4-e6cd69649720",
        "part": "whole"
       },
       "id": "de72b2d6-734d-4686-9236-a3b7a2e5ee95"
      }
     }
    },
    "214a8366-6c20-41f9-ab5f-ca154ff60c3a": {
     "id": "214a8366-6c20-41f9-ab5f-ca154ff60c3a",
     "prev": "e516b30e-36fa-42b2-b34d-6d6cc0428dcc",
     "regions": {
      "e461ddab-ad80-4b5d-a07d-a071ae61a8bc": {
       "attrs": {
        "height": 0.8,
        "width": 0.8,
        "x": 0.1,
        "y": 0.1
       },
       "content": {
        "cell": "bd75d7b9-360b-4a86-98f7-da6f5df631eb",
        "part": "whole"
       },
       "id": "e461ddab-ad80-4b5d-a07d-a071ae61a8bc"
      }
     }
    },
    "28abff0e-00f2-4bda-ae81-2c47d9981ee5": {
     "id": "28abff0e-00f2-4bda-ae81-2c47d9981ee5",
     "prev": "5b9cb7ab-ec3c-4049-8cb1-65ca0a926bb6",
     "regions": {
      "09be0824-7cf3-403b-986d-8b694283295f": {
       "attrs": {
        "height": 0.8,
        "width": 0.8,
        "x": 0.1,
        "y": 0.1
       },
       "content": {
        "cell": "eca48e83-402e-4d3c-8474-c0181bb0c8b8",
        "part": "whole"
       },
       "id": "09be0824-7cf3-403b-986d-8b694283295f"
      }
     }
    },
    "29600bac-a12a-4997-b662-a2f709253208": {
     "id": "29600bac-a12a-4997-b662-a2f709253208",
     "prev": "dc89b17d-8b8c-40df-84ab-15f457c29c6c",
     "regions": {
      "5e1f6f50-a354-4f67-b2d6-7b10bceb537f": {
       "attrs": {
        "height": 1,
        "width": 1,
        "x": 0,
        "y": 0
       },
       "id": "5e1f6f50-a354-4f67-b2d6-7b10bceb537f"
      }
     }
    },
    "30c74eec-3b30-46e4-9c69-3c6e44c60325": {
     "id": "30c74eec-3b30-46e4-9c69-3c6e44c60325",
     "prev": "13a5fc59-555e-470e-aa19-d63dc3967ed5",
     "regions": {
      "39a99194-9ef8-4d29-a430-5ce1c248c202": {
       "attrs": {
        "height": 0.8,
        "width": 0.8,
        "x": 0.1,
        "y": 0.1
       },
       "content": {
        "cell": "348d9e55-bd35-47c1-a030-41710bd81e11",
        "part": "whole"
       },
       "id": "39a99194-9ef8-4d29-a430-5ce1c248c202"
      }
     }
    },
    "31872cc0-c047-4abe-b15e-8e1b7900a64a": {
     "id": "31872cc0-c047-4abe-b15e-8e1b7900a64a",
     "prev": "5594d5f3-9fdc-4244-9db7-d3c93e45cee7",
     "regions": {
      "3fbdea5e-f3f6-4ef4-b5dd-4232aac14eb2": {
       "attrs": {
        "height": 0.8,
        "width": 0.8,
        "x": 0.1,
        "y": 0.1
       },
       "content": {
        "cell": "92b2d4a3-28d0-4b59-869c-a15889776d7c",
        "part": "whole"
       },
       "id": "3fbdea5e-f3f6-4ef4-b5dd-4232aac14eb2"
      }
     }
    },
    "466a0491-e709-44c6-86b2-a666d52c7373": {
     "id": "466a0491-e709-44c6-86b2-a666d52c7373",
     "prev": "77c8107b-5f20-47f0-a4df-7c8b98c7e8f1",
     "regions": {
      "4771996a-ae30-4b4e-9152-7ef4a5da1e3c": {
       "attrs": {
        "height": 0.8,
        "width": 0.8,
        "x": 0.1,
        "y": 0.1
       },
       "content": {
        "cell": "c78afc63-80a5-4238-b611-07c79302e586",
        "part": "whole"
       },
       "id": "4771996a-ae30-4b4e-9152-7ef4a5da1e3c"
      }
     }
    },
    "46ed681a-4d2e-4c21-ab04-bae4f436b9a9": {
     "id": "46ed681a-4d2e-4c21-ab04-bae4f436b9a9",
     "prev": "a27abd6a-e95f-4f89-8741-35072900aca1",
     "regions": {
      "bb9b0f85-c8bd-45fd-ace1-bf77c9ffec81": {
       "attrs": {
        "height": 0.8,
        "width": 0.8,
        "x": 0.1,
        "y": 0.1
       },
       "content": {
        "cell": "8fe29a06-3f98-4e36-aa07-ba21b78af211",
        "part": "whole"
       },
       "id": "bb9b0f85-c8bd-45fd-ace1-bf77c9ffec81"
      }
     }
    },
    "51efbd47-d25e-4179-b03e-f24765e579e3": {
     "id": "51efbd47-d25e-4179-b03e-f24765e579e3",
     "prev": "dae86bc4-fbf1-48e2-b09e-292c62c1b344",
     "regions": {
      "4de430df-2e00-4f78-bd9a-e66469c376e9": {
       "attrs": {
        "height": 0.8,
        "width": 0.8,
        "x": 0.1,
        "y": 0.1
       },
       "content": {
        "cell": "8764e6f3-4fcd-44d9-a13e-aebdb7434bed",
        "part": "whole"
       },
       "id": "4de430df-2e00-4f78-bd9a-e66469c376e9"
      }
     }
    },
    "5594d5f3-9fdc-4244-9db7-d3c93e45cee7": {
     "id": "5594d5f3-9fdc-4244-9db7-d3c93e45cee7",
     "prev": "f5984d0a-d925-48aa-9959-1a1d46455dd4",
     "regions": {
      "4fc54940-be44-48df-8752-0a5c1d7281d3": {
       "attrs": {
        "height": 0.8,
        "width": 0.8,
        "x": 0.1,
        "y": 0.1
       },
       "content": {
        "cell": "22d53113-99e6-4014-8bd4-829a2d1735ac",
        "part": "whole"
       },
       "id": "4fc54940-be44-48df-8752-0a5c1d7281d3"
      }
     }
    },
    "5b2a7a8e-5a7f-4c3a-a5e3-cc2892b3ca3a": {
     "id": "5b2a7a8e-5a7f-4c3a-a5e3-cc2892b3ca3a",
     "prev": "214a8366-6c20-41f9-ab5f-ca154ff60c3a",
     "regions": {
      "8c7c4480-3015-4408-99ba-eedaf97f657f": {
       "attrs": {
        "height": 0.8,
        "width": 0.8,
        "x": 0.1,
        "y": 0.1
       },
       "content": {
        "cell": "80463c1a-7008-4c57-9e7d-7ae094d4c3ef",
        "part": "whole"
       },
       "id": "8c7c4480-3015-4408-99ba-eedaf97f657f"
      }
     }
    },
    "5b9cb7ab-ec3c-4049-8cb1-65ca0a926bb6": {
     "id": "5b9cb7ab-ec3c-4049-8cb1-65ca0a926bb6",
     "prev": "30c74eec-3b30-46e4-9c69-3c6e44c60325",
     "regions": {
      "0e931735-780a-47dc-940a-cdec09d588d9": {
       "attrs": {
        "height": 0.8,
        "width": 0.8,
        "x": 0.1,
        "y": 0.1
       },
       "content": {
        "cell": "49531fd4-0bb8-4240-bc0a-bc663c46afad",
        "part": "whole"
       },
       "id": "0e931735-780a-47dc-940a-cdec09d588d9"
      }
     }
    },
    "7465d92b-0be8-4591-8755-80458b3161d9": {
     "id": "7465d92b-0be8-4591-8755-80458b3161d9",
     "prev": "29600bac-a12a-4997-b662-a2f709253208",
     "regions": {
      "64fb12d1-4cc8-4577-8085-99b5076a3139": {
       "attrs": {
        "height": 0.8,
        "width": 0.8,
        "x": 0.1,
        "y": 0.1
       },
       "content": {
        "cell": "32de0b38-4da0-4c9e-9a17-44c889dc1901",
        "part": "whole"
       },
       "id": "64fb12d1-4cc8-4577-8085-99b5076a3139"
      }
     }
    },
    "75e2012f-136e-4a88-827e-6051f56e891b": {
     "id": "75e2012f-136e-4a88-827e-6051f56e891b",
     "prev": "fd7f9b2c-f065-4658-b5a8-3dd30c79c708",
     "regions": {
      "5a7e65fc-fa87-44f9-a025-7cf9426df0dc": {
       "attrs": {
        "height": 0.8,
        "width": 0.8,
        "x": 0.1,
        "y": 0.1
       },
       "content": {
        "cell": "cdf3a822-a839-4c01-ad73-cc837baeef01",
        "part": "whole"
       },
       "id": "5a7e65fc-fa87-44f9-a025-7cf9426df0dc"
      }
     }
    },
    "77c8107b-5f20-47f0-a4df-7c8b98c7e8f1": {
     "id": "77c8107b-5f20-47f0-a4df-7c8b98c7e8f1",
     "prev": "7a4743d3-5159-43b2-8d91-481f628939f8",
     "regions": {
      "dcf4cb4d-8e07-4704-8b8a-aa27384882c2": {
       "attrs": {
        "height": 0.8,
        "width": 0.8,
        "x": 0.1,
        "y": 0.1
       },
       "content": {
        "cell": "8088e4f7-4f67-4eea-b598-91996c407b9d",
        "part": "whole"
       },
       "id": "dcf4cb4d-8e07-4704-8b8a-aa27384882c2"
      }
     }
    },
    "7a4743d3-5159-43b2-8d91-481f628939f8": {
     "id": "7a4743d3-5159-43b2-8d91-481f628939f8",
     "prev": "1b368f2f-96ae-426f-b4e8-71d8bbfbd97b",
     "regions": {
      "09aa1ee7-83fc-486d-9461-c997bb3be7cd": {
       "attrs": {
        "height": 0.8,
        "width": 0.8,
        "x": 0.1,
        "y": 0.1
       },
       "content": {
        "cell": "32e7536b-a6ea-41e8-9a05-e4d4446b5a03",
        "part": "whole"
       },
       "id": "09aa1ee7-83fc-486d-9461-c997bb3be7cd"
      }
     }
    },
    "8645aa8c-b6d0-4e01-8135-5a6dfd6d5393": {
     "id": "8645aa8c-b6d0-4e01-8135-5a6dfd6d5393",
     "prev": "86a5b05c-818a-4a2c-9fa3-cd3028c5470f",
     "regions": {
      "70d07fbb-30ba-43f0-940f-da0bc909e325": {
       "attrs": {
        "height": 0.8,
        "width": 0.8,
        "x": 0.1,
        "y": 0.1
       },
       "content": {
        "cell": "7c65ce12-37ca-47c0-8ba9-546a6c5f885f",
        "part": "whole"
       },
       "id": "70d07fbb-30ba-43f0-940f-da0bc909e325"
      }
     }
    },
    "86a5b05c-818a-4a2c-9fa3-cd3028c5470f": {
     "id": "86a5b05c-818a-4a2c-9fa3-cd3028c5470f",
     "prev": "7465d92b-0be8-4591-8755-80458b3161d9",
     "regions": {
      "5a708f05-087a-4b9a-8413-f18129740a11": {
       "attrs": {
        "height": 0.8,
        "width": 0.8,
        "x": 0.1,
        "y": 0.1
       },
       "content": {
        "cell": "988e3c9a-8880-41ec-abe6-d67a5f85585f",
        "part": "whole"
       },
       "id": "5a708f05-087a-4b9a-8413-f18129740a11"
      }
     }
    },
    "884c6850-161f-414c-b68a-54e902d85417": {
     "id": "884c6850-161f-414c-b68a-54e902d85417",
     "prev": "fb8871d6-bcb3-4060-8ab9-8907fb5162d9",
     "regions": {
      "a4f88dbc-a5ee-49e5-8514-63bdfd487930": {
       "attrs": {
        "height": 0.8,
        "width": 0.8,
        "x": 0.1,
        "y": 0.1
       },
       "content": {
        "cell": "4dfabcd0-c478-46f3-a763-087de38dfeab",
        "part": "whole"
       },
       "id": "a4f88dbc-a5ee-49e5-8514-63bdfd487930"
      }
     }
    },
    "9dac5a63-fc8b-49a8-a0df-8f67c21496b6": {
     "id": "9dac5a63-fc8b-49a8-a0df-8f67c21496b6",
     "prev": "31872cc0-c047-4abe-b15e-8e1b7900a64a",
     "regions": {
      "3929aa28-3829-4b19-91ca-1ea4be296d65": {
       "attrs": {
        "height": 0.8,
        "width": 0.8,
        "x": 0.1,
        "y": 0.1
       },
       "content": {
        "cell": "af4379dd-cd6f-455e-8a17-2643c6539630",
        "part": "whole"
       },
       "id": "3929aa28-3829-4b19-91ca-1ea4be296d65"
      }
     }
    },
    "9f24afd0-056a-4768-981f-7cb7ec575bb9": {
     "id": "9f24afd0-056a-4768-981f-7cb7ec575bb9",
     "prev": "0c9e745d-6bd5-4c0e-8d7a-b048dd0b2703",
     "regions": {
      "0d92fbec-68b8-4b18-9f00-e1976a827f57": {
       "attrs": {
        "height": 0.8,
        "width": 0.8,
        "x": 0.1,
        "y": 0.1
       },
       "content": {
        "cell": "e9f998b3-3a63-46b3-8f20-c903c585570b",
        "part": "whole"
       },
       "id": "0d92fbec-68b8-4b18-9f00-e1976a827f57"
      }
     }
    },
    "a27abd6a-e95f-4f89-8741-35072900aca1": {
     "id": "a27abd6a-e95f-4f89-8741-35072900aca1",
     "prev": "dcd40b80-e214-43e5-819f-c0062aca3df6",
     "regions": {
      "9a787516-d3d8-4aa5-8590-1280ff5e9336": {
       "attrs": {
        "height": 0.8,
        "width": 0.8,
        "x": 0.1,
        "y": 0.1
       },
       "content": {
        "cell": "f0b88664-df67-4a8a-b9f7-bf23cc85822f",
        "part": "whole"
       },
       "id": "9a787516-d3d8-4aa5-8590-1280ff5e9336"
      }
     }
    },
    "c7d6ae3c-ba2a-4e6d-bc3f-66828f0cb917": {
     "id": "c7d6ae3c-ba2a-4e6d-bc3f-66828f0cb917",
     "prev": "884c6850-161f-414c-b68a-54e902d85417",
     "regions": {
      "d9be3f2b-f7b8-4882-84d3-45f24d42b2ce": {
       "attrs": {
        "height": 0.8,
        "width": 0.8,
        "x": 0.1,
        "y": 0.1
       },
       "content": {
        "cell": "ea186e01-1b27-492b-91c7-30c571242ae3",
        "part": "whole"
       },
       "id": "d9be3f2b-f7b8-4882-84d3-45f24d42b2ce"
      }
     }
    },
    "cd319c67-45a1-457d-a8d5-ada19be2325c": {
     "id": "cd319c67-45a1-457d-a8d5-ada19be2325c",
     "prev": "46ed681a-4d2e-4c21-ab04-bae4f436b9a9",
     "regions": {
      "ce59b6ea-b314-427d-8274-d9df960c19a0": {
       "attrs": {
        "height": 0.8,
        "width": 0.8,
        "x": 0.1,
        "y": 0.1
       },
       "content": {
        "cell": "295177a7-e157-4493-baba-fbfbd4df8366",
        "part": "whole"
       },
       "id": "ce59b6ea-b314-427d-8274-d9df960c19a0"
      }
     }
    },
    "d05bb99b-d52b-4594-a992-b8a8995b30f4": {
     "id": "d05bb99b-d52b-4594-a992-b8a8995b30f4",
     "prev": "e13f52b0-25f9-478e-b124-bf471b4ff285",
     "regions": {
      "40779ec6-846c-4f7e-8b93-873ff32b5fdf": {
       "attrs": {
        "height": 0.8,
        "width": 0.8,
        "x": 0.1,
        "y": 0.1
       },
       "content": {
        "cell": "91723df6-f92d-4ad6-a8a7-55003f3859ba",
        "part": "whole"
       },
       "id": "40779ec6-846c-4f7e-8b93-873ff32b5fdf"
      }
     }
    },
    "dae86bc4-fbf1-48e2-b09e-292c62c1b344": {
     "id": "dae86bc4-fbf1-48e2-b09e-292c62c1b344",
     "prev": "466a0491-e709-44c6-86b2-a666d52c7373",
     "regions": {
      "2a30092d-d4e4-48e3-982c-98dd84d1d6ac": {
       "attrs": {
        "height": 0.8,
        "width": 0.8,
        "x": 0.1,
        "y": 0.1
       },
       "content": {
        "cell": "394b010f-0540-41c6-b004-14c037115edb",
        "part": "whole"
       },
       "id": "2a30092d-d4e4-48e3-982c-98dd84d1d6ac"
      }
     }
    },
    "dc89b17d-8b8c-40df-84ab-15f457c29c6c": {
     "id": "dc89b17d-8b8c-40df-84ab-15f457c29c6c",
     "prev": null,
     "regions": {
      "8beb9afe-017d-429b-a215-45cb99faf9a8": {
       "attrs": {
        "height": 0.8,
        "width": 0.8,
        "x": 0.1,
        "y": 0.1
       },
       "content": {
        "cell": "fe109bf9-1341-4e34-814b-cbf46bc0b707",
        "part": "whole"
       },
       "id": "8beb9afe-017d-429b-a215-45cb99faf9a8"
      }
     }
    },
    "dcd40b80-e214-43e5-819f-c0062aca3df6": {
     "id": "dcd40b80-e214-43e5-819f-c0062aca3df6",
     "prev": "d05bb99b-d52b-4594-a992-b8a8995b30f4",
     "regions": {
      "448515cc-7132-44e9-a306-78953aa959de": {
       "attrs": {
        "height": 0.8,
        "width": 0.8,
        "x": 0.1,
        "y": 0.1
       },
       "content": {
        "cell": "b70994a3-6a6c-43ee-ad83-a6a913a8f808",
        "part": "whole"
       },
       "id": "448515cc-7132-44e9-a306-78953aa959de"
      }
     }
    },
    "e13f52b0-25f9-478e-b124-bf471b4ff285": {
     "id": "e13f52b0-25f9-478e-b124-bf471b4ff285",
     "prev": "f11c6d6a-94d7-4be6-af29-21402e3b614b",
     "regions": {
      "3ffb5894-aa71-4805-950a-41563282895e": {
       "attrs": {
        "height": 0.8,
        "width": 0.8,
        "x": 0.1,
        "y": 0.1
       },
       "content": {
        "cell": "a318cb1b-187f-41ab-93f8-7cea2ba379eb",
        "part": "whole"
       },
       "id": "3ffb5894-aa71-4805-950a-41563282895e"
      }
     }
    },
    "e516b30e-36fa-42b2-b34d-6d6cc0428dcc": {
     "id": "e516b30e-36fa-42b2-b34d-6d6cc0428dcc",
     "prev": "28abff0e-00f2-4bda-ae81-2c47d9981ee5",
     "regions": {
      "eded0912-c3f6-4bb6-9ddd-107da34a1f7a": {
       "attrs": {
        "height": 0.8,
        "width": 0.8,
        "x": 0.1,
        "y": 0.1
       },
       "content": {
        "cell": "22d979ae-9f1f-4947-a3d6-bc4652645405",
        "part": "whole"
       },
       "id": "eded0912-c3f6-4bb6-9ddd-107da34a1f7a"
      }
     }
    },
    "ed83e361-8bc4-43af-b0ff-ec44c263f72c": {
     "id": "ed83e361-8bc4-43af-b0ff-ec44c263f72c",
     "prev": "c7d6ae3c-ba2a-4e6d-bc3f-66828f0cb917",
     "regions": {
      "e4967bdf-0e87-483d-9fb0-d7841b65b568": {
       "attrs": {
        "height": 0.8,
        "width": 0.8,
        "x": 0.1,
        "y": 0.1
       },
       "content": {
        "cell": "8a5de03b-ef0a-4045-a3ae-69fb7dc307f5",
        "part": "whole"
       },
       "id": "e4967bdf-0e87-483d-9fb0-d7841b65b568"
      }
     }
    },
    "f11c6d6a-94d7-4be6-af29-21402e3b614b": {
     "id": "f11c6d6a-94d7-4be6-af29-21402e3b614b",
     "prev": "51efbd47-d25e-4179-b03e-f24765e579e3",
     "regions": {
      "51f623df-b41c-4182-a455-4ac70a2f0e79": {
       "attrs": {
        "height": 0.8,
        "width": 0.8,
        "x": 0.1,
        "y": 0.1
       },
       "content": {
        "cell": "072863ed-e9c7-4cfd-8151-9c1b48a14a91",
        "part": "whole"
       },
       "id": "51f623df-b41c-4182-a455-4ac70a2f0e79"
      }
     }
    },
    "f5984d0a-d925-48aa-9959-1a1d46455dd4": {
     "id": "f5984d0a-d925-48aa-9959-1a1d46455dd4",
     "prev": "cd319c67-45a1-457d-a8d5-ada19be2325c",
     "regions": {
      "fd9c4285-198c-4a00-b171-b46623e339b6": {
       "attrs": {
        "height": 0.8,
        "width": 0.8,
        "x": 0.1,
        "y": 0.1
       },
       "content": {
        "cell": "097c19a3-2156-4fab-898c-885a27f3f977",
        "part": "whole"
       },
       "id": "fd9c4285-198c-4a00-b171-b46623e339b6"
      }
     }
    },
    "fb8871d6-bcb3-4060-8ab9-8907fb5162d9": {
     "id": "fb8871d6-bcb3-4060-8ab9-8907fb5162d9",
     "prev": "9dac5a63-fc8b-49a8-a0df-8f67c21496b6",
     "regions": {
      "10ecb666-9eb1-46fb-bfe3-c2a03eac8cdb": {
       "attrs": {
        "height": 0.8,
        "width": 0.8,
        "x": 0.1,
        "y": 0.1
       },
       "content": {
        "cell": "390268a2-762c-420f-858c-5855e5b611d9",
        "part": "whole"
       },
       "id": "10ecb666-9eb1-46fb-bfe3-c2a03eac8cdb"
      }
     }
    },
    "fd7f9b2c-f065-4658-b5a8-3dd30c79c708": {
     "id": "fd7f9b2c-f065-4658-b5a8-3dd30c79c708",
     "prev": "9f24afd0-056a-4768-981f-7cb7ec575bb9",
     "regions": {
      "474eea8e-3683-487e-bf76-9f3049e34f5f": {
       "attrs": {
        "height": 0.8,
        "width": 0.8,
        "x": 0.1,
        "y": 0.1
       },
       "content": {
        "cell": "e8b28ec2-97ce-4aa7-9c98-ee4536a2dc73",
        "part": "whole"
       },
       "id": "474eea8e-3683-487e-bf76-9f3049e34f5f"
      }
     }
    }
   },
   "themes": {}
  }
 },
 "nbformat": 4,
 "nbformat_minor": 0
}
