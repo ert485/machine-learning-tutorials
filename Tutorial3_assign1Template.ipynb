{
 "cells": [
  {
   "cell_type": "markdown",
   "metadata": {},
   "source": [
    "Preamble\n",
    "========\n",
    "\n",
    "This assignment is meant to provide you with an opportunity to create your first machine learning algorithm, and begin exploring the relationship between the answers the algorithm provides and the structure of the data.\n",
    "\n",
    "Attached to this assignment is a dataset containing 4 columns, x (a feature), y (another feature) TL (the true label of the class) and L (the known label of the class). Typically with machine learning, you would not have access to TL for all datapoint or you would not need to build a classifier, but it is provided here as a learning exercise. You should not use the TL column during training, but you can use it after training to see how the structure of the data interacts with the algorithm to produce answers that are correct or incorrect. Most of the data in the L column is empty (NaN in scipy). Those cells which have a label are your labels training data. Those cells which do not have a label are the data that you need to classify.\n",
    "\n",
    "You will be building, from first principles a K- nearest neighbour classifier in Python. You cannot use open-source code which implements this algorithm, that is the second step of your assignment. You are encouraged to use the lower-level components of SciPy, such as Pandas data frames to speed up your code, and save you the work of implementing low-level data management tasks.\n",
    "\n",
    "Assignment\n",
    "==========\n",
    "\n",
    "\n",
    "Hand in all Python code, properly documented (have some pity for the poor TA who has to mark this). (10 Marks for code quality, 10 Marks for code documentation).Your code should be accompanied by a file answering the questions posed, and containing graphs showing the results of the algorithm under different conditions. "
   ]
  },
  {
   "cell_type": "code",
   "execution_count": null,
   "metadata": {
    "collapsed": true
   },
   "outputs": [],
   "source": [
    "# Some imports that might be useful\n",
    "%matplotlib inline\n",
    "import pandas as pd\n",
    "import numpy as np\n",
    "from collections import Counter\n",
    "from matplotlib import pyplot as plt\n",
    "\n",
    "from sklearn.metrics import accuracy_score # you can't use sklearn in the final assignment.\n",
    "from sklearn.metrics import confusion_matrix # you can't use sklearn in the final assignment, write your own code."
   ]
  },
  {
   "cell_type": "code",
   "execution_count": null,
   "metadata": {
    "collapsed": false
   },
   "outputs": [],
   "source": [
    "# Loading and preprocessing the dataset\n",
    "# MODIFY AS YOU DEEM APPROPRIATE!!!\n",
    "df=pd.read_csv('knnDataSet.csv')\n",
    "df['L'] = df['L'].astype('category')\n",
    "df['TL'] = df['TL'].astype('category')\n",
    "trainSet = df.dropna()\n",
    "testSet = df.drop(trainSet.index)\n",
    "del trainSet['TL'], trainSet['Unnamed: 0']\n",
    "del testSet['L'], testSet['Unnamed: 0']\n",
    "trainSet=trainSet.values\n",
    "testSet=testSet.values"
   ]
  },
  {
   "cell_type": "markdown",
   "metadata": {},
   "source": [
    "1) Create a Python function using matplotlib, or similar library to create a scatter plot of the data provided. Plot x versus y, but change the color of the marker based on the class ID in the TL column. Change the shape depending on whether the marker has a label in the L column or not. Plot the data. Save this plot for reference later on in the assignment. (10 Marks)"
   ]
  },
  {
   "cell_type": "code",
   "execution_count": null,
   "metadata": {
    "collapsed": true
   },
   "outputs": [],
   "source": [
    "# Use matplotlib to plot the data belonging to different classes\n",
    "# def plotData(trainSet, testSet, ...):\n",
    "#     pass\n",
    "    "
   ]
  },
  {
   "cell_type": "markdown",
   "metadata": {},
   "source": [
    "2) Implement the k-nearest neighbour algorithm in Python. Just use simple data structures, the small datasets we are employing will not require kD-tree optimization. Your algorithm should take a labeled dataset (3 column table), and unlabeled dataset (2 column table), the parameter k, and a boolean value feedback_classification. The parameter k is the number of neighbours to consider when classifying. The boolean feedback_classification parameter is used to set the behaviour of the classifier. When it is true, previously unlabeled data that has been classified becomes part of the training set. When it is false, only data in the training set is used for nearest neighbour determination for all unlabeled data. (20 marks)"
   ]
  },
  {
   "cell_type": "code",
   "execution_count": null,
   "metadata": {
    "collapsed": true
   },
   "outputs": [],
   "source": [
    "# Your algorithm here\n",
    "def knn(trainSet, xTest, K, feedback_classification):\n",
    "    # loop over all test samples\n",
    "        \n",
    "        # loop over all training samples\n",
    "            # find the distance between test and train samples\n",
    "        \n",
    "        # sort the distance and choose k nearest neighbour \n",
    "        \n",
    "        # assign the majority class to the current test sample\n",
    "        \n",
    "        # if feedback is true then add the test sample to the \n",
    "        # set with the predicted label\n",
    "        \n",
    "    # return the predicted labels of xTest\n",
    "    pass"
   ]
  },
  {
   "cell_type": "markdown",
   "metadata": {},
   "source": [
    "3)  Run your classification algorithm for k = 1, 5, 10, 20. Plot each variant. Calculate the confusion matrix for each variant. How do the classification results change? Why? (10 Marks)"
   ]
  },
  {
   "cell_type": "code",
   "execution_count": null,
   "metadata": {
    "collapsed": false
   },
   "outputs": [],
   "source": [
    "# Draw the confusion matrices for different \n"
   ]
  },
  {
   "cell_type": "markdown",
   "metadata": {},
   "source": [
    "4) Sort the input data by TL. Set feedback_classification to true. Classify the results for k = 1, 5, 10. Plot the results and calculate the confusion matrix for each variant. What was the classification performance? Why? (20 Marks)"
   ]
  },
  {
   "cell_type": "code",
   "execution_count": null,
   "metadata": {
    "collapsed": false
   },
   "outputs": [],
   "source": [
    "# Set feedback_classification to true\n"
   ]
  },
  {
   "cell_type": "markdown",
   "metadata": {},
   "source": [
    "5) Randomize the ordering of the unlabeled nodes and repeat the experiment in step 4. Plot the results and calculate the confusion matrix. What changed? Why? What will happen if you change the random ordering and rerun the experiment? (20 Marks)"
   ]
  },
  {
   "cell_type": "code",
   "execution_count": null,
   "metadata": {
    "collapsed": false
   },
   "outputs": [],
   "source": [
    "# Randomize \n"
   ]
  }
 ],
 "metadata": {
  "anaconda-cloud": {},
  "kernelspec": {
   "display_name": "Python [Root]",
   "language": "python",
   "name": "Python [Root]"
  },
  "language_info": {
   "codemirror_mode": {
    "name": "ipython",
    "version": 3
   },
   "file_extension": ".py",
   "mimetype": "text/x-python",
   "name": "python",
   "nbconvert_exporter": "python",
   "pygments_lexer": "ipython3",
   "version": "3.5.2"
  }
 },
 "nbformat": 4,
 "nbformat_minor": 0
}
