{
 "cells": [
  {
   "cell_type": "markdown",
   "metadata": {},
   "source": [
    "Hidden Markov Models\n",
    "====================\n",
    "This tutorial uses `hmmlearn` package which can be installed by running `<pip install hmmlearn>` in a command line interface. For the assignment you can't use `hmmlearn`.\n"
   ]
  },
  {
   "cell_type": "markdown",
   "metadata": {},
   "source": [
    "Imports\n",
    "-------"
   ]
  },
  {
   "cell_type": "code",
   "execution_count": 1,
   "metadata": {
    "collapsed": false
   },
   "outputs": [],
   "source": [
    "#some imports\n",
    "import re\n",
    "import numpy as np\n",
    "import pandas as pd\n",
    "from hmmlearn.hmm import MultinomialHMM\n",
    "from collections import Counter\n",
    "from sklearn.metrics import accuracy_score\n",
    "#from mleFile import mleOutcomes, mleTrans"
   ]
  },
  {
   "cell_type": "markdown",
   "metadata": {},
   "source": [
    "Preprocessing\n",
    "-------------"
   ]
  },
  {
   "cell_type": "code",
   "execution_count": 2,
   "metadata": {
    "collapsed": false
   },
   "outputs": [],
   "source": [
    "data = pd.read_csv('training_Magic.txt', sep=\"\\t\", header = None)\n",
    "data.columns = [\"state\", \"outcome\"]"
   ]
  },
  {
   "cell_type": "markdown",
   "metadata": {},
   "source": [
    "Counting/Training\n",
    "-----------------"
   ]
  },
  {
   "cell_type": "code",
   "execution_count": 3,
   "metadata": {
    "collapsed": false
   },
   "outputs": [
    {
     "name": "stdout",
     "output_type": "stream",
     "text": [
      "0.507874015748\n",
      "0.49212598425200005\n",
      "0.397408207343\n",
      "0.602591792657\n"
     ]
    }
   ],
   "source": [
    "# code in mleFile is part of the assignment questions 1 & 2\n",
    "# Outcome Probabilities of fair  and cheat state\n",
    "#P_fair_win, P_cheat_win = mleOutcomes(data)\n",
    "P_fair_win, P_cheat_win = 0.507874015748, 0.397408207343\n",
    "\n",
    "P_fair_lose = 1 - P_fair_win\n",
    "P_cheat_lose = 1 - P_cheat_win\n",
    "\n",
    "print (P_fair_win)\n",
    "print (P_fair_lose)\n",
    "print (P_cheat_win)\n",
    "print (P_cheat_lose)\n"
   ]
  },
  {
   "cell_type": "code",
   "execution_count": 4,
   "metadata": {
    "collapsed": false
   },
   "outputs": [
    {
     "name": "stdout",
     "output_type": "stream",
     "text": [
      "0.5196850393700787 0.48031496062992124 0.474025974025974 0.525974025974026\n"
     ]
    }
   ],
   "source": [
    "# Calculated state transition probabilities.\n",
    "#f2f, f2c, c2c, c2f = mleTrans(data)\n",
    "f2f, f2c, c2c, c2f = 0.5196850393700787, 0.48031496062992124, \\\n",
    "                        0.474025974025974, 0.525974025974026\n",
    "print(f2f, f2c, c2c, c2f)"
   ]
  },
  {
   "cell_type": "markdown",
   "metadata": {},
   "source": [
    "Define HMM\n",
    "----------\n",
    "Here we define an HMM model with 2 states: `n_components=2`, and multinomial outcome distributions: `MultinomialHMM`"
   ]
  },
  {
   "cell_type": "code",
   "execution_count": 5,
   "metadata": {
    "collapsed": true
   },
   "outputs": [],
   "source": [
    "model=MultinomialHMM(n_components=2) "
   ]
  },
  {
   "cell_type": "markdown",
   "metadata": {},
   "source": [
    "What is the probability of being in fair state at the begining of time?"
   ]
  },
  {
   "cell_type": "code",
   "execution_count": 6,
   "metadata": {
    "collapsed": true
   },
   "outputs": [],
   "source": [
    "model.startprob_ = [0.5, 0.5]"
   ]
  },
  {
   "cell_type": "markdown",
   "metadata": {},
   "source": [
    "How frequently transitions occurs between states?"
   ]
  },
  {
   "cell_type": "code",
   "execution_count": 7,
   "metadata": {
    "collapsed": true
   },
   "outputs": [],
   "source": [
    "model.transmat_= np.array([\n",
    "                            # Next state\n",
    "                            #  0       1\n",
    "                              [c2c,   c2f], # Current state 0\n",
    "                              [f2c,   f2f]  # Current state 1  \n",
    "                          ])"
   ]
  },
  {
   "cell_type": "markdown",
   "metadata": {},
   "source": [
    "What the different outcomes/values that can be observed in each state? "
   ]
  },
  {
   "cell_type": "code",
   "execution_count": 8,
   "metadata": {
    "collapsed": true
   },
   "outputs": [],
   "source": [
    "model.n_features = 2 # Number of possible outcomes\n",
    "model.emissionprob_ = np.array([\n",
    "                    # Outcome lose,            win\n",
    "                            [P_cheat_lose,   1-P_cheat_lose], # State cheat\n",
    "                            [1 - P_fair_win, P_fair_win    ]  # State fair\n",
    "                       ]) "
   ]
  },
  {
   "cell_type": "markdown",
   "metadata": {},
   "source": [
    "Generate some data using the defined HMM model"
   ]
  },
  {
   "cell_type": "code",
   "execution_count": 9,
   "metadata": {
    "collapsed": false
   },
   "outputs": [],
   "source": [
    "#X, Z = model.sample(n_samples=500)"
   ]
  },
  {
   "cell_type": "markdown",
   "metadata": {},
   "source": [
    "Labelling Data\n",
    "---------------"
   ]
  },
  {
   "cell_type": "code",
   "execution_count": 10,
   "metadata": {
    "collapsed": false
   },
   "outputs": [],
   "source": [
    "# reading some outcome data file\n",
    "observations=[]\n",
    "with open('testing_Magic.txt') as f:\n",
    "    rawdata=f.readlines()\n",
    "    observations = [1*(s.strip()=='win') for s in rawdata]\n",
    "observations=np.array(observations).reshape(len(observations),1)"
   ]
  },
  {
   "cell_type": "code",
   "execution_count": 11,
   "metadata": {
    "collapsed": false
   },
   "outputs": [],
   "source": [
    "# Q5 asks to implement forward-backward algorithm\n",
    "# and use that to decode states\n",
    "Zp=model.decode(observations, algorithm=\"viterbi\")"
   ]
  },
  {
   "cell_type": "code",
   "execution_count": 12,
   "metadata": {
    "collapsed": false
   },
   "outputs": [
    {
     "data": {
      "text/plain": [
       "Counter({0: 442, 1: 358})"
      ]
     },
     "execution_count": 12,
     "metadata": {},
     "output_type": "execute_result"
    }
   ],
   "source": [
    "c=Counter(Zp[1])\n",
    "c"
   ]
  }
 ],
 "metadata": {
  "anaconda-cloud": {},
  "kernelspec": {
   "display_name": "Python [Root]",
   "language": "python",
   "name": "Python [Root]"
  },
  "language_info": {
   "codemirror_mode": {
    "name": "ipython",
    "version": 3
   },
   "file_extension": ".py",
   "mimetype": "text/x-python",
   "name": "python",
   "nbconvert_exporter": "python",
   "pygments_lexer": "ipython3",
   "version": "3.5.2"
  }
 },
 "nbformat": 4,
 "nbformat_minor": 1
}
